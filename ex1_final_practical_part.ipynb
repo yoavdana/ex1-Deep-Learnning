{
  "nbformat": 4,
  "nbformat_minor": 0,
  "metadata": {
    "colab": {
      "name": "ex1.ipynb",
      "provenance": [],
      "include_colab_link": true
    },
    "kernelspec": {
      "name": "python3",
      "display_name": "Python 3"
    },
    "language_info": {
      "name": "python"
    }
  },
  "cells": [
    {
      "cell_type": "markdown",
      "metadata": {
        "id": "view-in-github",
        "colab_type": "text"
      },
      "source": [
        "<a href=\"https://colab.research.google.com/github/yoavdana/ex1_DL/blob/main/ex1_final_practical_part.ipynb\" target=\"_parent\"><img src=\"https://colab.research.google.com/assets/colab-badge.svg\" alt=\"Open In Colab\"/></a>"
      ]
    },
    {
      "cell_type": "code",
      "metadata": {
        "colab": {
          "base_uri": "https://localhost:8080/"
        },
        "id": "B3RC-HpHQ-Hs",
        "outputId": "fd8e9149-6cbb-4d28-e7b4-440be29a9662"
      },
      "source": [
        "!git clone https://github.com/yoavdana/ex1_DL.git"
      ],
      "execution_count": 16,
      "outputs": [
        {
          "output_type": "stream",
          "name": "stdout",
          "text": [
            "fatal: destination path 'ex1_DL' already exists and is not an empty directory.\n"
          ]
        }
      ]
    },
    {
      "cell_type": "code",
      "metadata": {
        "id": "kew0gkAsRDWn"
      },
      "source": [
        "import torch \n",
        "import numpy as np\n",
        "import scipy.stats as si\n",
        "import torch\n",
        "import torch.nn as nn\n",
        "import numpy as np\n",
        "import torch.nn.functional as F\n",
        "from sklearn.metrics import f1_score\n",
        "import torch.optim as optim\n",
        "import torch.utils.data as data\n",
        "from time import time\n",
        "import matplotlib.pyplot as plt\n",
        "import torchvision.transforms as transforms\n",
        "from tqdm import tqdm\n",
        "import pandas as pd"
      ],
      "execution_count": 44,
      "outputs": []
    },
    {
      "cell_type": "markdown",
      "metadata": {
        "id": "5_PDI34NMRjw"
      },
      "source": [
        "# Data Proccesing"
      ]
    },
    {
      "cell_type": "code",
      "metadata": {
        "id": "66jPLZBeMMTK"
      },
      "source": [
        "SEQ_LENGTH = 20\n",
        "BATCH_SIZE = 64\n",
        "MAPPING = {'A': 0, 'R': 1, 'N': 2, 'D': 3, 'C': 4, 'E': 5, 'Q': 6, 'G': 7, 'H': 8, 'I': 9, 'L': 10, 'K': 11,\n",
        "              'M': 12, 'F': 13, 'P': 14, 'S': 15, 'T': 16, 'W': 17, 'Y': 18, 'V': 19}\n",
        "\n",
        "\n",
        "def data_to_input(sequence, pos_or_neg):\n",
        "    map=np.zeros((9, 20))\n",
        "    for i, seq in enumerate(sequence):\n",
        "        map[i,MAPPING[seq]]+=1\n",
        "    map = map.flatten()\n",
        "    if pos_or_neg==None:\n",
        "        return map\n",
        "    return np.concatenate([map, np.array([pos_or_neg])])\n",
        "\n",
        "def read_data(filename, pos_or_neg):\n",
        "    file = open(filename, 'r')\n",
        "    lines=file.readlines()\n",
        "    data = np.zeros((len(lines), 181))\n",
        "    if pos_or_neg == None:\n",
        "        data = np.zeros((len(lines), 180))\n",
        "    for i, line in enumerate(lines):\n",
        "        input = data_to_input(line.replace('\\n', ''), pos_or_neg)\n",
        "        data[i] = input\n",
        "    return data\n",
        "\n",
        "# def bootstrap(DATA,size,NUMBER_OF_BATCHS):\n",
        "\n",
        "#     new_DATA=np.zeros((size,181))\n",
        "#     N=DATA.shape[0]\n",
        "#     batch_size=N//NUMBER_OF_BATCHS\n",
        "#     for i in range(NUMBER_OF_BATCHS):\n",
        "\n",
        "#         random = np.random.randint(batch_size*i,batch_size*(i+1), size=size//NUMBER_OF_BATCHS)\n",
        "#         new_DATA[((size//NUMBER_OF_BATCHS)*i):(size//NUMBER_OF_BATCHS)*(i+1), :] = DATA[random, :]\n",
        "#     return new_DATA\n",
        "\n",
        "\n",
        "def bootstrap(data,size,NUMBER_OF_BATCHS):\n",
        "\n",
        "    N=data.shape[0]\n",
        "    batch_size=N//NUMBER_OF_BATCHS\n",
        "    for i in range(NUMBER_OF_BATCHS):\n",
        "        random = np.random.randint(batch_size*i,batch_size*(i+1), size=size//NUMBER_OF_BATCHS)\n",
        "        data =np.vstack([DATA,DATA[random, :]])\n",
        "    return data\n",
        "\n",
        "\n",
        "def data_pre_pros(filename_pos,filename_neg):\n",
        "\n",
        "    neg_data=read_data(filename_neg, 0)\n",
        "    pos_data=read_data(filename_pos, 1)\n",
        "    np.random.shuffle(neg_data)\n",
        "    np.random.shuffle(pos_data)\n",
        "\n",
        "    neg_data_train = neg_data[:int(len(neg_data)*0.9)]\n",
        "    neg_data_test = neg_data[int(len(neg_data)*0.9):]\n",
        "    pos_data_train = pos_data[:int(len(pos_data)*0.9)]\n",
        "    pos_data_test = pos_data[int(len(pos_data)*0.9):]\n",
        "    #pos_data_train = bootstrap(pos_data_train, int(BOOTSTRAP_SIZE*0.9), int(NUMBER_OF_BATCHS*0.9))\n",
        "    #pos_data_test = bootstrap(pos_data_test, int(BOOTSTRAP_SIZE*0.1), int(NUMBER_OF_BATCHS*0.1))\n",
        "\n",
        "    final_data_train = np.concatenate([neg_data_train, pos_data_train])\n",
        "    final_data_test = np.concatenate([neg_data_test, pos_data_test])\n",
        "    return final_data_train, final_data_test\n",
        "\n",
        "\n",
        "def shuffle_data(data_Xy):\n",
        "    np.random.shuffle(data_Xy)\n",
        "    return data_Xy[:,:180],data_Xy[:,-1]\n",
        "\n",
        "\n",
        "def spike_seq(filename):\n",
        "    with open(filename) as f:\n",
        "        lines = f.readlines()[0]\n",
        "        predeict=list()\n",
        "        sequences = list()\n",
        "\n",
        "        if len(lines) == 9:\n",
        "            map = np.zeros((9, 20))\n",
        "            sequences.append(lines)\n",
        "            for i, seq in enumerate(lines):\n",
        "                map[i, MAPPING[seq]] += 1\n",
        "            map = map.flatten()\n",
        "            predeict.append(map)\n",
        "        else:\n",
        "            for i in range(len(lines)-9):\n",
        "                map = np.zeros((9, 20))\n",
        "                sequences.append(lines[i:i+9])\n",
        "                for i, seq in enumerate(lines[i:i+9]):       \n",
        "                    map[i, MAPPING[seq]] += 1\n",
        "                map = map.flatten()\n",
        "                predeict.append(map)\n",
        "        \n",
        "        return np.array(predeict), sequences\n"
      ],
      "execution_count": 45,
      "outputs": []
    },
    {
      "cell_type": "markdown",
      "metadata": {
        "id": "oakD2foSw8ss"
      },
      "source": [
        "# Loading Data"
      ]
    },
    {
      "cell_type": "code",
      "metadata": {
        "id": "jYNbU_SaRgzZ"
      },
      "source": [
        "filename_pos='/content/ex1_DL/resorces/pos_A0201.txt'\n",
        "filename_neg='/content/ex1_DL/resorces/neg_A0201.txt'\n",
        "\n",
        "train_set, test_set=data_pre_pros(filename_pos,filename_neg)\n",
        "train_x, train_y = train_set[:,:180], train_set[:,-1]\n",
        "test_x, test_y = test_set[:,:180], test_set[:,-1]\n",
        "\n",
        "train_target = torch.from_numpy(train_y.astype(np.int64))\n",
        "train = torch.from_numpy(train_x.astype(np.float32)) \n",
        "train_tensor = torch.utils.data.TensorDataset(train, train_target) \n",
        "train_dataloader = torch.utils.data.DataLoader(dataset = train_tensor, batch_size = BATCH_SIZE, shuffle = True)\n",
        "\n",
        "test_target = torch.from_numpy(test_y.astype(np.int64))\n",
        "test = torch.from_numpy(test_x.astype(np.float32)) \n",
        "test_tensor = torch.utils.data.TensorDataset(test, test_target) \n",
        "test_dataloader = torch.utils.data.DataLoader(dataset = test_tensor, batch_size = BATCH_SIZE, shuffle = True)\n"
      ],
      "execution_count": 46,
      "outputs": []
    },
    {
      "cell_type": "markdown",
      "metadata": {
        "id": "WkOKJ3pkTRut"
      },
      "source": [
        "# Evaluation functions"
      ]
    },
    {
      "cell_type": "code",
      "metadata": {
        "id": "08W0jQWQTnvo"
      },
      "source": [
        "def count_parameters(model):\n",
        "    return sum(p.numel() for p in model.parameters() if p.requires_grad)\n",
        "    \n",
        "\n",
        "def calculate_accuracy(y_true, y_pred, is_training=False):\n",
        "    if y_pred.ndim == 2:\n",
        "        y_pred = y_pred.argmax(dim=1)\n",
        "       \n",
        "   \n",
        "    tp = (y_true * y_pred).sum().to(torch.float32)\n",
        "    tn = ((1 - y_true) * (1 - y_pred)).sum().to(torch.float32)\n",
        "    fp = ((1 - y_true) * y_pred).sum().to(torch.float32)\n",
        "    fn = (y_true * (1 - y_pred)).sum().to(torch.float32)\n",
        "   \n",
        "    epsilon = 1e-7\n",
        "   \n",
        "    precision = tp / (tp + fp + epsilon)\n",
        "    recall = tp / (tp + fn + epsilon)\n",
        "    accuracy = (tp + tn) / (tp + tn + fp + fn + epsilon)\n",
        "   \n",
        "    f1 = 2* (precision*recall) / (precision + recall + epsilon)\n",
        "    f1.requires_grad = is_training\n",
        "    return accuracy"
      ],
      "execution_count": 47,
      "outputs": []
    },
    {
      "cell_type": "markdown",
      "metadata": {
        "id": "PhkcZrZYU9jQ"
      },
      "source": [
        "## Network architecture"
      ]
    },
    {
      "cell_type": "code",
      "metadata": {
        "id": "zU3l7iJlVG6k"
      },
      "source": [
        "# Network parameters\n",
        "INPUT=180\n",
        "INPUT_1=25\n",
        "INPUT_2=18\n",
        "INPUT_3=10\n",
        "INPUT_4=3\n",
        "OUTPUT=2\n",
        "P_DROPOUT=0.28\n",
        "P_DROPOUT_2=0.15\n",
        "\n",
        "LEARNNING_RATE=0.0001\n",
        "\n",
        "BOOTSTRAP_SIZE=15000\n",
        "NUMBER_OF_BATCHS=150\n",
        "\n",
        "EPOCHS = 50"
      ],
      "execution_count": 48,
      "outputs": []
    },
    {
      "cell_type": "code",
      "metadata": {
        "id": "n9TzVlOwVcaI"
      },
      "source": [
        "class Network(nn.Module):\n",
        "    def __init__(self):\n",
        "        super(Network, self).__init__()\n",
        "\n",
        "        self.input_fc = nn.Linear(INPUT, INPUT_1)\n",
        "        \n",
        "        self.hidden_1_fc = nn.Linear(INPUT_1, INPUT_2)\n",
        "        \n",
        "        self.hidden_2_fc = nn.Linear(INPUT_2, INPUT_3)\n",
        "\n",
        "        self.hidden_3_fc = nn.Linear(INPUT_3, INPUT_4)\n",
        "\n",
        "        self.output_fc = nn.Linear(INPUT_4, OUTPUT)\n",
        "\n",
        "        self.dropout = nn.Dropout(P_DROPOUT)\n",
        "\n",
        "        \n",
        "        self.batch_norm_1 = nn.BatchNorm1d(INPUT_1)\n",
        "        self.batch_norm_2 = nn.BatchNorm1d(INPUT_2)\n",
        "        self.batch_norm_3 = nn.BatchNorm1d(INPUT_3)\n",
        "        self.batch_norm_4 = nn.BatchNorm1d(INPUT_4)\n",
        "\n",
        "\n",
        "\n",
        "    def forward(self, x):\n",
        "   \n",
        "\n",
        "        h_1 = F.relu(self.batch_norm_1(self.input_fc(x)))\n",
        "\n",
        "        # h_1 = F.relu(self.input_fc(x))\n",
        "\n",
        "        h_1=self.dropout(h_1)\n",
        "\n",
        "        h_2 = F.relu(self.hidden_1_fc(h_1))\n",
        "\n",
        "        #h_2=self.dropout(h_2)\n",
        "\n",
        "        h_3 = F.relu(self.hidden_2_fc(h_2))\n",
        "\n",
        "        #h_3=self.dropout(h_3)\n",
        "\n",
        "        h_4 = F.relu(self.hidden_3_fc(h_3))\n",
        "\n",
        "        y_pred = self.output_fc(h_4)\n",
        "\n",
        "        return y_pred, h_4\n",
        "\n",
        "\n",
        "\n",
        "device = torch.device('cuda' if torch.cuda.is_available() else 'cpu')\n",
        "model = Network().to(device)\n",
        "optimizer=optim.Adam(model.parameters(), lr=LEARNNING_RATE)\n",
        "weights = [train_set.shape[0]/(2*2.4*np.sum(train_set[:, -1])), 2.6*np.sum(train_set[:, -1])/(2*(train_set.shape[0]-np.sum(train_set[:, -1])))] #as class distribution\n",
        "weights.reverse()\n",
        "class_weights = torch.FloatTensor(weights).to(device)\n",
        "criterion = nn.CrossEntropyLoss(weight=class_weights)"
      ],
      "execution_count": 72,
      "outputs": []
    },
    {
      "cell_type": "markdown",
      "metadata": {
        "id": "2mb8kMOWPiG_"
      },
      "source": [
        "# Train Loop"
      ]
    },
    {
      "cell_type": "code",
      "metadata": {
        "id": "34cbmGnjpMtR"
      },
      "source": [
        "def train_model(model, train_dataloader, optimizer, criterion, device):\n",
        "    epoch_loss = 0\n",
        "    epoch_acc = 0\n",
        "    model.train()\n",
        "\n",
        "    for i,batch in enumerate(train_dataloader):\n",
        "        batch=[item.to(device) for item in batch]\n",
        "        sequences, labels=batch\n",
        "        # zero the parameter gradients\n",
        "        optimizer.zero_grad()\n",
        "      \n",
        "        # forward \n",
        "        outputs, _ = model(sequences)\n",
        "        #calculate the loss between the target and the actuals\n",
        "        loss= criterion(input=outputs, target=labels)\n",
        "        #Gradient calculation uisng backward pass\n",
        "        acc=calculate_accuracy(labels, outputs)\n",
        "        loss.backward()\n",
        "        # update the weights\n",
        "        optimizer.step()\n",
        "        epoch_loss += loss.item()\n",
        "        epoch_acc += acc.item()\n",
        "\n",
        "    return epoch_loss / len(train_dataloader), epoch_acc / len(train_dataloader)\n",
        "\n",
        "\n",
        "def evaluate(model, test_dataloader, criterion, device):\n",
        "    epoch_loss = 0\n",
        "    epoch_acc = 0\n",
        "    model.eval()\n",
        "\n",
        "    for i,batch in enumerate(test_dataloader):\n",
        "        batch=[item.to(device) for item in batch]\n",
        "        sequences, labels=batch\n",
        "        # zero the parameter gradients\n",
        "        optimizer.zero_grad()\n",
        "      \n",
        "        # forward \n",
        "        outputs, _ = model(sequences)\n",
        "        #calculate the loss between the target and the actuals\n",
        "        loss= criterion(input=outputs, target=labels)\n",
        "        #Gradient calculation uisng backward pass\n",
        "        acc=calculate_accuracy(labels, outputs)\n",
        "        epoch_loss += loss.item()\n",
        "        epoch_acc += acc.item()\n",
        "\n",
        "    return epoch_loss / len(test_dataloader), epoch_acc / len(test_dataloader)\n"
      ],
      "execution_count": 50,
      "outputs": []
    },
    {
      "cell_type": "code",
      "metadata": {
        "colab": {
          "base_uri": "https://localhost:8080/",
          "height": 1000
        },
        "id": "D7OQ_DBFrHs7",
        "outputId": "965464e2-f155-4831-c12f-70d5b6e0e45b"
      },
      "source": [
        "print(f'The model has {count_parameters(model):,} trainable parameters')\n",
        "print(f'weights: {weights}')\n",
        "train_per_ep=[]\n",
        "test_per_ep=[]\n",
        "train_acc_per_ep = []\n",
        "test_acc_per_ep =[]\n",
        "test_acc = 0\n",
        "for epoch in range(EPOCHS):\n",
        "    train_loss, train_acc = train_model(model, train_dataloader, optimizer, criterion, device)\n",
        "    test_loss, test_acc = evaluate(model, test_dataloader,criterion, device)\n",
        "    \n",
        "    train_per_ep.append(train_loss)\n",
        "    test_per_ep.append(test_loss)\n",
        "    train_acc_per_ep.append(train_acc *100)\n",
        "    test_acc_per_ep.append(test_acc * 100)\n",
        "    \n",
        "    print(f'Epoch: {epoch + 1:02}')\n",
        "    print(f'\\tTrain Loss: {train_loss:.3f} | Train Acc: {train_acc * 100:.2f}%')\n",
        "    print(f'Epoch: {epoch + 1:02}')\n",
        "    print(f'\\tTest Loss: {test_loss:.3f} | Test Acc: {test_acc * 100:.2f}%')\n",
        "\n",
        "train_per_ep=np.array(train_per_ep)\n",
        "test_per_ep=np.array(test_per_ep)\n",
        "train_acc_per_ep=np.array(train_acc_per_ep)\n",
        "test_acc_per_ep=np.array(test_acc_per_ep)\n",
        "epocs=np.arange(1,EPOCHS+1)\n",
        "print(np.mean(np.abs(np.array(train_per_ep) - np.array(test_per_ep))))\n",
        "plt.figure()\n",
        "plt.plot(epocs,train_per_ep)\n",
        "plt.plot(epocs,test_per_ep)\n",
        "plt.legend(['train loss','test loss'])\n",
        "plt.show()\n",
        "\n",
        "plt.figure()\n",
        "plt.plot(epocs,train_acc_per_ep)\n",
        "plt.plot(epocs,test_acc_per_ep)\n",
        "plt.legend(['train accuracy','test accuracy'])\n",
        "plt.show()"
      ],
      "execution_count": 73,
      "outputs": [
        {
          "output_type": "stream",
          "name": "stdout",
          "text": [
            "The model has 5,336 trainable parameters\n",
            "weights: [0.15871064331730333, 1.9147931376192246]\n",
            "Epoch: 01\n",
            "\tTrain Loss: 0.678 | Train Acc: 12.06%\n",
            "Epoch: 01\n",
            "\tTest Loss: 0.657 | Test Acc: 10.98%\n",
            "Epoch: 02\n",
            "\tTrain Loss: 0.608 | Train Acc: 21.47%\n",
            "Epoch: 02\n",
            "\tTest Loss: 0.534 | Test Acc: 55.63%\n",
            "Epoch: 03\n",
            "\tTrain Loss: 0.476 | Train Acc: 66.35%\n",
            "Epoch: 03\n",
            "\tTest Loss: 0.414 | Test Acc: 75.28%\n",
            "Epoch: 04\n",
            "\tTrain Loss: 0.370 | Train Acc: 78.72%\n",
            "Epoch: 04\n",
            "\tTest Loss: 0.324 | Test Acc: 80.73%\n",
            "Epoch: 05\n",
            "\tTrain Loss: 0.311 | Train Acc: 81.83%\n",
            "Epoch: 05\n",
            "\tTest Loss: 0.287 | Test Acc: 84.19%\n",
            "Epoch: 06\n",
            "\tTrain Loss: 0.282 | Train Acc: 83.53%\n",
            "Epoch: 06\n",
            "\tTest Loss: 0.273 | Test Acc: 85.17%\n",
            "Epoch: 07\n",
            "\tTrain Loss: 0.267 | Train Acc: 84.16%\n",
            "Epoch: 07\n",
            "\tTest Loss: 0.269 | Test Acc: 85.89%\n",
            "Epoch: 08\n",
            "\tTrain Loss: 0.260 | Train Acc: 84.65%\n",
            "Epoch: 08\n",
            "\tTest Loss: 0.270 | Test Acc: 85.20%\n",
            "Epoch: 09\n",
            "\tTrain Loss: 0.259 | Train Acc: 84.76%\n",
            "Epoch: 09\n",
            "\tTest Loss: 0.265 | Test Acc: 84.04%\n",
            "Epoch: 10\n",
            "\tTrain Loss: 0.251 | Train Acc: 84.84%\n",
            "Epoch: 10\n",
            "\tTest Loss: 0.266 | Test Acc: 85.13%\n",
            "Epoch: 11\n",
            "\tTrain Loss: 0.251 | Train Acc: 85.10%\n",
            "Epoch: 11\n",
            "\tTest Loss: 0.262 | Test Acc: 85.41%\n",
            "Epoch: 12\n",
            "\tTrain Loss: 0.248 | Train Acc: 85.34%\n",
            "Epoch: 12\n",
            "\tTest Loss: 0.271 | Test Acc: 85.24%\n",
            "Epoch: 13\n",
            "\tTrain Loss: 0.238 | Train Acc: 85.78%\n",
            "Epoch: 13\n",
            "\tTest Loss: 0.260 | Test Acc: 85.13%\n",
            "Epoch: 14\n",
            "\tTrain Loss: 0.232 | Train Acc: 85.97%\n",
            "Epoch: 14\n",
            "\tTest Loss: 0.266 | Test Acc: 85.75%\n",
            "Epoch: 15\n",
            "\tTrain Loss: 0.237 | Train Acc: 86.10%\n",
            "Epoch: 15\n",
            "\tTest Loss: 0.262 | Test Acc: 85.02%\n",
            "Epoch: 16\n",
            "\tTrain Loss: 0.231 | Train Acc: 86.05%\n",
            "Epoch: 16\n",
            "\tTest Loss: 0.264 | Test Acc: 85.56%\n",
            "Epoch: 17\n",
            "\tTrain Loss: 0.225 | Train Acc: 86.44%\n",
            "Epoch: 17\n",
            "\tTest Loss: 0.259 | Test Acc: 85.42%\n",
            "Epoch: 18\n",
            "\tTrain Loss: 0.222 | Train Acc: 86.70%\n",
            "Epoch: 18\n",
            "\tTest Loss: 0.275 | Test Acc: 86.22%\n",
            "Epoch: 19\n",
            "\tTrain Loss: 0.222 | Train Acc: 86.83%\n",
            "Epoch: 19\n",
            "\tTest Loss: 0.266 | Test Acc: 86.00%\n",
            "Epoch: 20\n",
            "\tTrain Loss: 0.219 | Train Acc: 86.64%\n",
            "Epoch: 20\n",
            "\tTest Loss: 0.271 | Test Acc: 86.00%\n",
            "Epoch: 21\n",
            "\tTrain Loss: 0.218 | Train Acc: 86.86%\n",
            "Epoch: 21\n",
            "\tTest Loss: 0.266 | Test Acc: 86.25%\n",
            "Epoch: 22\n",
            "\tTrain Loss: 0.215 | Train Acc: 87.13%\n",
            "Epoch: 22\n",
            "\tTest Loss: 0.266 | Test Acc: 85.79%\n",
            "Epoch: 23\n",
            "\tTrain Loss: 0.215 | Train Acc: 87.06%\n",
            "Epoch: 23\n",
            "\tTest Loss: 0.271 | Test Acc: 86.11%\n",
            "Epoch: 24\n",
            "\tTrain Loss: 0.212 | Train Acc: 87.48%\n",
            "Epoch: 24\n",
            "\tTest Loss: 0.286 | Test Acc: 87.13%\n",
            "Epoch: 25\n",
            "\tTrain Loss: 0.208 | Train Acc: 87.50%\n",
            "Epoch: 25\n",
            "\tTest Loss: 0.277 | Test Acc: 86.51%\n",
            "Epoch: 26\n",
            "\tTrain Loss: 0.207 | Train Acc: 87.44%\n",
            "Epoch: 26\n",
            "\tTest Loss: 0.286 | Test Acc: 87.31%\n",
            "Epoch: 27\n",
            "\tTrain Loss: 0.203 | Train Acc: 87.66%\n",
            "Epoch: 27\n",
            "\tTest Loss: 0.281 | Test Acc: 86.51%\n",
            "Epoch: 28\n",
            "\tTrain Loss: 0.203 | Train Acc: 87.74%\n",
            "Epoch: 28\n",
            "\tTest Loss: 0.270 | Test Acc: 86.55%\n",
            "Epoch: 29\n",
            "\tTrain Loss: 0.201 | Train Acc: 88.01%\n",
            "Epoch: 29\n",
            "\tTest Loss: 0.288 | Test Acc: 86.94%\n",
            "Epoch: 30\n",
            "\tTrain Loss: 0.200 | Train Acc: 87.73%\n",
            "Epoch: 30\n",
            "\tTest Loss: 0.279 | Test Acc: 87.49%\n",
            "Epoch: 31\n",
            "\tTrain Loss: 0.202 | Train Acc: 87.97%\n",
            "Epoch: 31\n",
            "\tTest Loss: 0.294 | Test Acc: 87.57%\n",
            "Epoch: 32\n",
            "\tTrain Loss: 0.197 | Train Acc: 88.08%\n",
            "Epoch: 32\n",
            "\tTest Loss: 0.292 | Test Acc: 87.27%\n",
            "Epoch: 33\n",
            "\tTrain Loss: 0.199 | Train Acc: 88.26%\n",
            "Epoch: 33\n",
            "\tTest Loss: 0.293 | Test Acc: 87.20%\n",
            "Epoch: 34\n",
            "\tTrain Loss: 0.192 | Train Acc: 88.41%\n",
            "Epoch: 34\n",
            "\tTest Loss: 0.290 | Test Acc: 87.56%\n",
            "Epoch: 35\n",
            "\tTrain Loss: 0.194 | Train Acc: 88.21%\n",
            "Epoch: 35\n",
            "\tTest Loss: 0.290 | Test Acc: 87.86%\n",
            "Epoch: 36\n",
            "\tTrain Loss: 0.190 | Train Acc: 88.41%\n",
            "Epoch: 36\n",
            "\tTest Loss: 0.292 | Test Acc: 87.71%\n",
            "Epoch: 37\n",
            "\tTrain Loss: 0.186 | Train Acc: 88.59%\n",
            "Epoch: 37\n",
            "\tTest Loss: 0.295 | Test Acc: 87.56%\n",
            "Epoch: 38\n",
            "\tTrain Loss: 0.189 | Train Acc: 88.67%\n",
            "Epoch: 38\n",
            "\tTest Loss: 0.293 | Test Acc: 87.82%\n",
            "Epoch: 39\n",
            "\tTrain Loss: 0.188 | Train Acc: 88.56%\n",
            "Epoch: 39\n",
            "\tTest Loss: 0.292 | Test Acc: 87.06%\n",
            "Epoch: 40\n",
            "\tTrain Loss: 0.186 | Train Acc: 88.87%\n",
            "Epoch: 40\n",
            "\tTest Loss: 0.307 | Test Acc: 87.68%\n",
            "Epoch: 41\n",
            "\tTrain Loss: 0.185 | Train Acc: 88.80%\n",
            "Epoch: 41\n",
            "\tTest Loss: 0.295 | Test Acc: 87.20%\n",
            "Epoch: 42\n",
            "\tTrain Loss: 0.188 | Train Acc: 88.71%\n",
            "Epoch: 42\n",
            "\tTest Loss: 0.311 | Test Acc: 88.11%\n",
            "Epoch: 43\n",
            "\tTrain Loss: 0.183 | Train Acc: 88.88%\n",
            "Epoch: 43\n",
            "\tTest Loss: 0.304 | Test Acc: 87.42%\n",
            "Epoch: 44\n",
            "\tTrain Loss: 0.186 | Train Acc: 88.88%\n",
            "Epoch: 44\n",
            "\tTest Loss: 0.307 | Test Acc: 87.56%\n",
            "Epoch: 45\n",
            "\tTrain Loss: 0.183 | Train Acc: 89.06%\n",
            "Epoch: 45\n",
            "\tTest Loss: 0.294 | Test Acc: 87.46%\n",
            "Epoch: 46\n",
            "\tTrain Loss: 0.182 | Train Acc: 89.11%\n",
            "Epoch: 46\n",
            "\tTest Loss: 0.302 | Test Acc: 87.46%\n",
            "Epoch: 47\n",
            "\tTrain Loss: 0.181 | Train Acc: 89.18%\n",
            "Epoch: 47\n",
            "\tTest Loss: 0.325 | Test Acc: 88.33%\n",
            "Epoch: 48\n",
            "\tTrain Loss: 0.182 | Train Acc: 89.00%\n",
            "Epoch: 48\n",
            "\tTest Loss: 0.321 | Test Acc: 87.89%\n",
            "Epoch: 49\n",
            "\tTrain Loss: 0.182 | Train Acc: 89.05%\n",
            "Epoch: 49\n",
            "\tTest Loss: 0.324 | Test Acc: 87.93%\n",
            "Epoch: 50\n",
            "\tTrain Loss: 0.177 | Train Acc: 89.35%\n",
            "Epoch: 50\n",
            "\tTest Loss: 0.315 | Test Acc: 87.71%\n",
            "0.07150430328181394\n"
          ]
        },
        {
          "output_type": "display_data",
          "data": {
            "image/png": "[encoded data removed]",
            "text/plain": [
              "<Figure size 432x288 with 1 Axes>"
            ]
          },
          "metadata": {
            "needs_background": "light"
          }
        },
        {
          "output_type": "display_data",
          "data": {
            "image/png": "[encoded data removed]",
            "text/plain": [
              "<Figure size 432x288 with 1 Axes>"
            ]
          },
          "metadata": {
            "needs_background": "light"
          }
        }
      ]
    },
    {
      "cell_type": "markdown",
      "metadata": {
        "id": "43BfWpVRxpgI"
      },
      "source": [
        "# Q7"
      ]
    },
    {
      "cell_type": "code",
      "metadata": {
        "colab": {
          "base_uri": "https://localhost:8080/"
        },
        "id": "Lw7GZ0uXab_W",
        "outputId": "e96dfdb7-402b-408c-ce9b-c43697da90ca"
      },
      "source": [
        "seq, sequences=spike_seq('/content/ex1_DL/resorces/spike_acid.txt')\n",
        "print('Amount of sequences:', len(seq))\n",
        "seq = torch.from_numpy(seq.astype('float32'))\n",
        "seq = seq.to(device)\n",
        "y_pred, _ = model(seq)\n",
        "z = y_pred\n",
        "my_softmax = nn.Softmax(dim=1)\n",
        "z = my_softmax(z)\n",
        "top_five = torch.topk(z[:,1], 5)\n",
        "result = list()\n",
        "for index in top_five[1]:\n",
        "    result.append(sequences[index])\n",
        "print(\"Top 5 sequences:\", list(result))\n",
        "print(\"Top 5 sequences probabilities of positive detect:\" ,top_five[0].tolist())\n"
      ],
      "execution_count": 74,
      "outputs": [
        {
          "output_type": "stream",
          "name": "stdout",
          "text": [
            "Amount of sequences: 1264\n",
            "Top 5 sequences: ['ALLAGTITS', 'FLVLLPLVS', 'FPREGVFVS', 'VLLPLVSSQ', 'PLVDLPIGI']\n",
            "Top 5 sequences probabilities of positive detect: [0.9828862547874451, 0.9662321209907532, 0.9659780263900757, 0.9651313424110413, 0.9647306799888611]\n"
          ]
        }
      ]
    },
    {
      "cell_type": "markdown",
      "metadata": {
        "id": "dLnkMmChtEND"
      },
      "source": [
        "# Q8"
      ]
    },
    {
      "cell_type": "code",
      "metadata": {
        "id": "9M69mI6xurcN"
      },
      "source": [
        "def optimize_sequence():\n",
        "    max_prob = 0\n",
        "    max_m = 0\n",
        "    for i in range(10):\n",
        "        w1 = torch.randn((1, 9, 20), device=device, requires_grad=True)\n",
        "        w1 = w1.flatten(1)\n",
        "        y = torch.ones(1)\n",
        "\n",
        "        f = model\n",
        "        f.requires_grad_(False)\n",
        "        x = nn.Parameter(w1, requires_grad=True)\n",
        "        optim_sgd = torch.optim.SGD([x], lr=0.8)\n",
        "        c_entropy = nn.CrossEntropyLoss()\n",
        "        soft_max = nn.Softmax(dim=1)\n",
        "\n",
        "        num_steps = 10  # how many optim steps to take\n",
        "        for _ in range(1, num_steps):\n",
        "            loss = c_entropy(f(x)[0], y.type(torch.LongTensor))\n",
        "            loss.backward()\n",
        "            optim_sgd.step()\n",
        "            optim_sgd.zero_grad()\n",
        "\n",
        "        x = nn.Parameter(x, requires_grad=False)    \n",
        "        x = x.reshape(9,20)\n",
        "        a = soft_max(x).argmax(1)\n",
        "        m = torch.zeros (x.shape).scatter (1, a.unsqueeze (1), 1.0)\n",
        "        if soft_max(f(m.reshape(1, 180))[0])[0].tolist()[1] > max_prob:\n",
        "            max_prob = soft_max(f(m.reshape(1, 180))[0])[0].tolist()[1]\n",
        "            max_m = m\n",
        "\n",
        "    # mapping\n",
        "    res = list()    \n",
        "    for row in max_m:\n",
        "        ind = torch.where(row == 1)\n",
        "        res.append((ind[0].tolist()[0]))\n",
        "    final_res = ''\n",
        "    for i in res:\n",
        "        for j,val in enumerate(list(MAPPING.values())):\n",
        "          if val == i:\n",
        "            final_res += list(MAPPING.keys())[j]\n",
        "\n",
        "\n",
        "    return final_res"
      ],
      "execution_count": 273,
      "outputs": []
    }
  ]
}