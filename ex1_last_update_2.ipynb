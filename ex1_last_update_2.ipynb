{
  "nbformat": 4,
  "nbformat_minor": 0,
  "metadata": {
    "colab": {
      "name": "ex1.ipynb",
      "provenance": [],
      "include_colab_link": true
    },
    "kernelspec": {
      "name": "python3",
      "display_name": "Python 3"
    },
    "language_info": {
      "name": "python"
    }
  },
  "cells": [
    {
      "cell_type": "markdown",
      "metadata": {
        "id": "view-in-github",
        "colab_type": "text"
      },
      "source": [
        "<a href=\"https://colab.research.google.com/github/yoavdana/ex1_DL/blob/main/ex1_last_update_2.ipynb\" target=\"_parent\"><img src=\"https://colab.research.google.com/assets/colab-badge.svg\" alt=\"Open In Colab\"/></a>"
      ]
    },
    {
      "cell_type": "code",
      "metadata": {
        "colab": {
          "base_uri": "https://localhost:8080/"
        },
        "id": "B3RC-HpHQ-Hs",
        "outputId": "42dab242-79dd-4131-8bfb-bedbd17b561e"
      },
      "source": [
        "!git clone https://github.com/yoavdana/ex1_DL.git"
      ],
      "execution_count": 1,
      "outputs": [
        {
          "output_type": "stream",
          "name": "stdout",
          "text": [
            "Cloning into 'ex1_DL'...\n",
            "remote: Enumerating objects: 121, done.\u001b[K\n",
            "remote: Counting objects: 100% (121/121), done.\u001b[K\n",
            "remote: Compressing objects: 100% (105/105), done.\u001b[K\n",
            "remote: Total 121 (delta 45), reused 48 (delta 9), pack-reused 0\u001b[K\n",
            "Receiving objects: 100% (121/121), 59.37 MiB | 26.52 MiB/s, done.\n",
            "Resolving deltas: 100% (45/45), done.\n"
          ]
        }
      ]
    },
    {
      "cell_type": "code",
      "metadata": {
        "id": "kew0gkAsRDWn"
      },
      "source": [
        "import torch \n",
        "import numpy as np\n",
        "import scipy.stats as si\n",
        "import torch\n",
        "import torch.nn as nn\n",
        "import numpy as np\n",
        "import torch.nn.functional as F\n",
        "from sklearn.metrics import f1_score\n",
        "import torch.optim as optim\n",
        "import torch.utils.data as data\n",
        "from time import time\n",
        "import matplotlib.pyplot as plt\n",
        "import torchvision.transforms as transforms\n",
        "from tqdm import tqdm\n",
        "import pandas as pd"
      ],
      "execution_count": 2,
      "outputs": []
    },
    {
      "cell_type": "markdown",
      "metadata": {
        "id": "knIQ-N2mRdQH"
      },
      "source": [
        "# Loading Data"
      ]
    },
    {
      "cell_type": "markdown",
      "metadata": {
        "id": "5_PDI34NMRjw"
      },
      "source": [
        "Data Proccesing"
      ]
    },
    {
      "cell_type": "code",
      "metadata": {
        "id": "66jPLZBeMMTK"
      },
      "source": [
        "SEQ_LENGTH = 20\n",
        "BATCH_SIZE = 64\n",
        "MAPPING = {'A': 0, 'R': 1, 'N': 2, 'D': 3, 'C': 4, 'E': 5, 'Q': 6, 'G': 7, 'H': 8, 'I': 9, 'L': 10, 'K': 11,\n",
        "              'M': 12, 'F': 13, 'P': 14, 'S': 15, 'T': 16, 'W': 17, 'Y': 18, 'V': 19}\n",
        "\n",
        "\n",
        "def data_to_input(sequence, pos_or_neg):\n",
        "    map=np.zeros((9, 20))\n",
        "    for i, seq in enumerate(sequence):\n",
        "        map[i,MAPPING[seq]]+=1\n",
        "    map = map.flatten()\n",
        "    if pos_or_neg==None:\n",
        "        return map\n",
        "    return np.concatenate([map, np.array([pos_or_neg])])\n",
        "\n",
        "def read_data(filename, pos_or_neg):\n",
        "    file = open(filename, 'r')\n",
        "    lines=file.readlines()\n",
        "    data = np.zeros((len(lines), 181))\n",
        "    if pos_or_neg == None:\n",
        "        data = np.zeros((len(lines), 180))\n",
        "    for i, line in enumerate(lines):\n",
        "        input = data_to_input(line.replace('\\n', ''), pos_or_neg)\n",
        "        data[i] = input\n",
        "    return data\n",
        "\n",
        "# def bootstrap(DATA,size,NUMBER_OF_BATCHS):\n",
        "\n",
        "#     new_DATA=np.zeros((size,181))\n",
        "#     N=DATA.shape[0]\n",
        "#     batch_size=N//NUMBER_OF_BATCHS\n",
        "#     for i in range(NUMBER_OF_BATCHS):\n",
        "\n",
        "#         random = np.random.randint(batch_size*i,batch_size*(i+1), size=size//NUMBER_OF_BATCHS)\n",
        "#         new_DATA[((size//NUMBER_OF_BATCHS)*i):(size//NUMBER_OF_BATCHS)*(i+1), :] = DATA[random, :]\n",
        "#     return new_DATA\n",
        "\n",
        "\n",
        "def bootstrap(data,size,NUMBER_OF_BATCHS):\n",
        "\n",
        "    N=data.shape[0]\n",
        "    batch_size=N//NUMBER_OF_BATCHS\n",
        "    for i in range(NUMBER_OF_BATCHS):\n",
        "        random = np.random.randint(batch_size*i,batch_size*(i+1), size=size//NUMBER_OF_BATCHS)\n",
        "        data =np.vstack([DATA,DATA[random, :]])\n",
        "    return data\n",
        "\n",
        "\n",
        "def data_pre_pros(filename_pos,filename_neg):\n",
        "\n",
        "    neg_data=read_data(filename_neg, 0)\n",
        "    pos_data=read_data(filename_pos, 1)\n",
        "    np.random.shuffle(neg_data)\n",
        "    np.random.shuffle(pos_data)\n",
        "\n",
        "    neg_data_train = neg_data[:int(len(neg_data)*0.9)]\n",
        "    neg_data_test = neg_data[int(len(neg_data)*0.9):]\n",
        "    pos_data_train = pos_data[:int(len(pos_data)*0.9)]\n",
        "    pos_data_test = pos_data[int(len(pos_data)*0.9):]\n",
        "    #pos_data_train = bootstrap(pos_data_train, int(BOOTSTRAP_SIZE*0.9), int(NUMBER_OF_BATCHS*0.9))\n",
        "    #pos_data_test = bootstrap(pos_data_test, int(BOOTSTRAP_SIZE*0.1), int(NUMBER_OF_BATCHS*0.1))\n",
        "\n",
        "    final_data_train = np.concatenate([neg_data_train, pos_data_train])\n",
        "    final_data_test = np.concatenate([neg_data_test, pos_data_test])\n",
        "    return final_data_train, final_data_test\n",
        "\n",
        "\n",
        "def shuffle_data(data_Xy):\n",
        "    np.random.shuffle(data_Xy)\n",
        "    return data_Xy[:,:180],data_Xy[:,-1]\n",
        "\n",
        "\n",
        "def spike_seq(filename):\n",
        "    with open(filename) as f:\n",
        "        lines = f.readlines()[0]\n",
        "        predeict=list()\n",
        "        sequences = list()\n",
        "\n",
        "        if len(lines) == 9:\n",
        "            map = np.zeros((9, 20))\n",
        "            sequences.append(lines)\n",
        "            for i, seq in enumerate(lines):\n",
        "                map[i, MAPPING[seq]] += 1\n",
        "            map = map.flatten()\n",
        "            predeict.append(map)\n",
        "        else:\n",
        "            for i in range(len(lines)-9):\n",
        "                map = np.zeros((9, 20))\n",
        "                sequences.append(lines[i:i+9])\n",
        "                for i, seq in enumerate(lines[i:i+9]):       \n",
        "                    map[i, MAPPING[seq]] += 1\n",
        "                map = map.flatten()\n",
        "                predeict.append(map)\n",
        "        \n",
        "        return np.array(predeict), sequences\n"
      ],
      "execution_count": 3,
      "outputs": []
    },
    {
      "cell_type": "code",
      "metadata": {
        "id": "jYNbU_SaRgzZ"
      },
      "source": [
        "filename_pos='/content/ex1_DL/resorces/pos_A0201.txt'\n",
        "filename_neg='/content/ex1_DL/resorces/neg_A0201.txt'\n",
        "\n",
        "train_set, test_set=data_pre_pros(filename_pos,filename_neg)\n",
        "train_x, train_y = train_set[:,:180], train_set[:,-1]\n",
        "test_x, test_y = test_set[:,:180], test_set[:,-1]\n",
        "\n",
        "train_target = torch.from_numpy(train_y.astype(np.int64))\n",
        "train = torch.from_numpy(train_x.astype(np.float32)) \n",
        "train_tensor = torch.utils.data.TensorDataset(train, train_target) \n",
        "train_dataloader = torch.utils.data.DataLoader(dataset = train_tensor, batch_size = BATCH_SIZE, shuffle = True)\n",
        "\n",
        "test_target = torch.from_numpy(test_y.astype(np.int64))\n",
        "test = torch.from_numpy(test_x.astype(np.float32)) \n",
        "test_tensor = torch.utils.data.TensorDataset(test, test_target) \n",
        "test_dataloader = torch.utils.data.DataLoader(dataset = test_tensor, batch_size = BATCH_SIZE, shuffle = True)\n"
      ],
      "execution_count": 4,
      "outputs": []
    },
    {
      "cell_type": "markdown",
      "metadata": {
        "id": "WkOKJ3pkTRut"
      },
      "source": [
        "# Evaluation functions"
      ]
    },
    {
      "cell_type": "code",
      "metadata": {
        "id": "08W0jQWQTnvo"
      },
      "source": [
        "def count_parameters(model):\n",
        "    return sum(p.numel() for p in model.parameters() if p.requires_grad)\n",
        "\n",
        "\n",
        "# def calculate_accuracy(y_pred, y):\n",
        "#     top_pred = y_pred.argmax(1, keepdim = True)\n",
        "#     correct = top_pred.eq(y.view_as(top_pred)).sum()\n",
        "#     acc = correct.float() / y.shape[0]\n",
        "#     return acc\n",
        "\n",
        "\n",
        "# def calculate_accuracy(y_pred, y):\n",
        "#     top_pred = y_pred.argmax(1, keepdim = True)\n",
        "#     f1 = f1_score(y_pred,y)\n",
        "#     return f1\n",
        "    \n",
        "\n",
        "def calculate_accuracy(y_true, y_pred, is_training=False):\n",
        "    if y_pred.ndim == 2:\n",
        "        y_pred = y_pred.argmax(dim=1)\n",
        "       \n",
        "   \n",
        "    tp = (y_true * y_pred).sum().to(torch.float32)\n",
        "    tn = ((1 - y_true) * (1 - y_pred)).sum().to(torch.float32)\n",
        "    fp = ((1 - y_true) * y_pred).sum().to(torch.float32)\n",
        "    fn = (y_true * (1 - y_pred)).sum().to(torch.float32)\n",
        "   \n",
        "    epsilon = 1e-7\n",
        "   \n",
        "    precision = tp / (tp + fp + epsilon)\n",
        "    recall = tp / (tp + fn + epsilon)\n",
        "    accuracy = (tp + tn) / (tp + tn + fp + fn + epsilon)\n",
        "   \n",
        "    f1 = 2* (precision*recall) / (precision + recall + epsilon)\n",
        "    f1.requires_grad = is_training\n",
        "    return accuracy"
      ],
      "execution_count": 5,
      "outputs": []
    },
    {
      "cell_type": "markdown",
      "metadata": {
        "id": "PhkcZrZYU9jQ"
      },
      "source": [
        "## Network architecture"
      ]
    },
    {
      "cell_type": "code",
      "metadata": {
        "id": "zU3l7iJlVG6k"
      },
      "source": [
        "# Network parameters\n",
        "INPUT=180\n",
        "INPUT_1=25\n",
        "INPUT_2=18\n",
        "INPUT_3=10\n",
        "INPUT_4=3\n",
        "OUTPUT=2\n",
        "P_DROPOUT=0.25\n",
        "P_DROPOUT_2=0.15\n",
        "\n",
        "LEARNNING_RATE=0.00006\n",
        "\n",
        "BOOTSTRAP_SIZE=15000\n",
        "NUMBER_OF_BATCHS=150\n",
        "\n",
        "EPOCHS = 50"
      ],
      "execution_count": 7,
      "outputs": []
    },
    {
      "cell_type": "code",
      "metadata": {
        "id": "n9TzVlOwVcaI"
      },
      "source": [
        "class Network(nn.Module):\n",
        "    def __init__(self):\n",
        "        super(Network, self).__init__()\n",
        "\n",
        "        self.input_fc = nn.Linear(INPUT, INPUT_1)\n",
        "        \n",
        "        self.hidden_1_fc = nn.Linear(INPUT_1, INPUT_2)\n",
        "        \n",
        "        self.hidden_2_fc = nn.Linear(INPUT_2, INPUT_3)\n",
        "\n",
        "        self.hidden_3_fc = nn.Linear(INPUT_3, INPUT_4)\n",
        "\n",
        "        self.output_fc = nn.Linear(INPUT_4, OUTPUT)\n",
        "\n",
        "        self.dropout = nn.Dropout(P_DROPOUT)\n",
        "\n",
        "        \n",
        "        self.batch_norm_1 = nn.BatchNorm1d(INPUT_1)\n",
        "        self.batch_norm_2 = nn.BatchNorm1d(INPUT_2)\n",
        "        self.batch_norm_3 = nn.BatchNorm1d(INPUT_3)\n",
        "        self.batch_norm_4 = nn.BatchNorm1d(INPUT_4)\n",
        "\n",
        "\n",
        "\n",
        "    def forward(self, x):\n",
        "   \n",
        "\n",
        "        h_1 = F.relu(self.batch_norm_1(self.input_fc(x)))\n",
        "\n",
        "        # h_1 = F.relu(self.input_fc(x))\n",
        "\n",
        "        h_1=self.dropout(h_1)\n",
        "\n",
        "        h_2 = F.relu(self.hidden_1_fc(h_1))\n",
        "\n",
        "        # h_2=self.dropout(h_2)\n",
        "\n",
        "        h_3 = F.relu(self.hidden_2_fc(h_2))\n",
        "\n",
        "        #h_3=self.dropout2(h_3)\n",
        "\n",
        "        h_4 = F.relu(self.hidden_3_fc(h_3))\n",
        "\n",
        "        y_pred = self.output_fc(h_4)\n",
        "\n",
        "        return y_pred, h_4\n",
        "\n",
        "\n",
        "\n",
        "device = torch.device('cuda' if torch.cuda.is_available() else 'cpu')\n",
        "model = Network().to(device)\n",
        "optimizer=optim.Adam(model.parameters(), lr=LEARNNING_RATE)\n",
        "weights = [train_set.shape[0]/(2*2.4*np.sum(train_set[:, -1])), 2.6*np.sum(train_set[:, -1])/(2*(train_set.shape[0]-np.sum(train_set[:, -1])))] #as class distribution\n",
        "weights.reverse()\n",
        "class_weights = torch.FloatTensor(weights).to(device)\n",
        "criterion = nn.CrossEntropyLoss(weight=class_weights)"
      ],
      "execution_count": 8,
      "outputs": []
    },
    {
      "cell_type": "markdown",
      "metadata": {
        "id": "2mb8kMOWPiG_"
      },
      "source": [
        "# Train Loop"
      ]
    },
    {
      "cell_type": "code",
      "metadata": {
        "colab": {
          "base_uri": "https://localhost:8080/"
        },
        "id": "_uFUj0MVPgoO",
        "outputId": "fc93fc54-99ef-4986-ddca-b67d928b26a4"
      },
      "source": [
        "start_time=time()tensor([[9.8081, 1.8017]]\n",
        "\n",
        "for epoch in range(20):\n",
        "    running_loss=0.0\n",
        "    pbar=tqdm(iterable=train_dataloader)\n",
        "    for i,batch in enumerate(pbar):\n",
        "      batch=[item.to(device) for  item in batch]\n",
        "      sequences, labels=batch\n",
        "      # zero the parameter gradients\n",
        "      optimizer.zero_grad()\n",
        "      # forward \n",
        "      outputs, _ = model(sequences)\n",
        "      #calculate the loss between the target and the actuals\n",
        "      loss= criterion(input=outputs, target=labels)\n",
        "      #Gradient calculation uisng backward pass\n",
        "      loss.backward()\n",
        "      # update the weights\n",
        "      optimizer.step()\n",
        "      running_loss+=loss.item()\n",
        "      pbar.set_postfix(loss=running_loss/(i+1))\n",
        "    pbar.close()\n",
        "    print('epoch %d -Loss %.3f' % (epoch +1,running_loss/(len(train_tensor)/BATCH_SIZE)))      \n",
        "    running_loss = 0.0\n",
        "\n",
        "print(\"Time for training using PyTorch %f\" %(time()-start_time))"
      ],
      "execution_count": null,
      "outputs": [
        {
          "output_type": "stream",
          "name": "stderr",
          "text": [
            "100%|██████████| 387/387 [00:03<00:00, 122.14it/s, loss=0.289]\n"
          ]
        },
        {
          "output_type": "stream",
          "name": "stdout",
          "text": [
            "epoch 1 -Loss 0.289\n"
          ]
        },
        {
          "output_type": "stream",
          "name": "stderr",
          "text": [
            "100%|██████████| 387/387 [00:03<00:00, 121.26it/s, loss=0.131]\n"
          ]
        },
        {
          "output_type": "stream",
          "name": "stdout",
          "text": [
            "epoch 2 -Loss 0.131\n"
          ]
        },
        {
          "output_type": "stream",
          "name": "stderr",
          "text": [
            "100%|██████████| 387/387 [00:03<00:00, 122.79it/s, loss=0.12]\n"
          ]
        },
        {
          "output_type": "stream",
          "name": "stdout",
          "text": [
            "epoch 3 -Loss 0.120\n"
          ]
        },
        {
          "output_type": "stream",
          "name": "stderr",
          "text": [
            "100%|██████████| 387/387 [00:03<00:00, 121.10it/s, loss=0.116]\n"
          ]
        },
        {
          "output_type": "stream",
          "name": "stdout",
          "text": [
            "epoch 4 -Loss 0.116\n"
          ]
        },
        {
          "output_type": "stream",
          "name": "stderr",
          "text": [
            "100%|██████████| 387/387 [00:03<00:00, 121.53it/s, loss=0.114]\n"
          ]
        },
        {
          "output_type": "stream",
          "name": "stdout",
          "text": [
            "epoch 5 -Loss 0.114\n"
          ]
        },
        {
          "output_type": "stream",
          "name": "stderr",
          "text": [
            "100%|██████████| 387/387 [00:03<00:00, 122.54it/s, loss=0.116]\n"
          ]
        },
        {
          "output_type": "stream",
          "name": "stdout",
          "text": [
            "epoch 6 -Loss 0.116\n"
          ]
        },
        {
          "output_type": "stream",
          "name": "stderr",
          "text": [
            "100%|██████████| 387/387 [00:03<00:00, 122.28it/s, loss=0.11]\n"
          ]
        },
        {
          "output_type": "stream",
          "name": "stdout",
          "text": [
            "epoch 7 -Loss 0.110\n"
          ]
        },
        {
          "output_type": "stream",
          "name": "stderr",
          "text": [
            "100%|██████████| 387/387 [00:03<00:00, 120.90it/s, loss=0.114]\n"
          ]
        },
        {
          "output_type": "stream",
          "name": "stdout",
          "text": [
            "epoch 8 -Loss 0.114\n"
          ]
        },
        {
          "output_type": "stream",
          "name": "stderr",
          "text": [
            "100%|██████████| 387/387 [00:03<00:00, 120.51it/s, loss=0.109]\n"
          ]
        },
        {
          "output_type": "stream",
          "name": "stdout",
          "text": [
            "epoch 9 -Loss 0.109\n"
          ]
        },
        {
          "output_type": "stream",
          "name": "stderr",
          "text": [
            "100%|██████████| 387/387 [00:03<00:00, 118.58it/s, loss=0.109]\n"
          ]
        },
        {
          "output_type": "stream",
          "name": "stdout",
          "text": [
            "epoch 10 -Loss 0.110\n"
          ]
        },
        {
          "output_type": "stream",
          "name": "stderr",
          "text": [
            "100%|██████████| 387/387 [00:03<00:00, 117.21it/s, loss=0.111]\n"
          ]
        },
        {
          "output_type": "stream",
          "name": "stdout",
          "text": [
            "epoch 11 -Loss 0.111\n"
          ]
        },
        {
          "output_type": "stream",
          "name": "stderr",
          "text": [
            "100%|██████████| 387/387 [00:03<00:00, 119.94it/s, loss=0.11]\n"
          ]
        },
        {
          "output_type": "stream",
          "name": "stdout",
          "text": [
            "epoch 12 -Loss 0.110\n"
          ]
        },
        {
          "output_type": "stream",
          "name": "stderr",
          "text": [
            "100%|██████████| 387/387 [00:03<00:00, 120.39it/s, loss=0.107]\n"
          ]
        },
        {
          "output_type": "stream",
          "name": "stdout",
          "text": [
            "epoch 13 -Loss 0.107\n"
          ]
        },
        {
          "output_type": "stream",
          "name": "stderr",
          "text": [
            "100%|██████████| 387/387 [00:03<00:00, 120.04it/s, loss=0.109]\n"
          ]
        },
        {
          "output_type": "stream",
          "name": "stdout",
          "text": [
            "epoch 14 -Loss 0.109\n"
          ]
        },
        {
          "output_type": "stream",
          "name": "stderr",
          "text": [
            "100%|██████████| 387/387 [00:03<00:00, 120.90it/s, loss=0.108]\n"
          ]
        },
        {
          "output_type": "stream",
          "name": "stdout",
          "text": [
            "epoch 15 -Loss 0.108\n"
          ]
        },
        {
          "output_type": "stream",
          "name": "stderr",
          "text": [
            "100%|██████████| 387/387 [00:03<00:00, 119.06it/s, loss=0.106]\n"
          ]
        },
        {
          "output_type": "stream",
          "name": "stdout",
          "text": [
            "epoch 16 -Loss 0.106\n"
          ]
        },
        {
          "output_type": "stream",
          "name": "stderr",
          "text": [
            "100%|██████████| 387/387 [00:03<00:00, 118.97it/s, loss=0.106]\n"
          ]
        },
        {
          "output_type": "stream",
          "name": "stdout",
          "text": [
            "epoch 17 -Loss 0.106\n"
          ]
        },
        {
          "output_type": "stream",
          "name": "stderr",
          "text": [
            "100%|██████████| 387/387 [00:03<00:00, 117.70it/s, loss=0.108]\n"
          ]
        },
        {
          "output_type": "stream",
          "name": "stdout",
          "text": [
            "epoch 18 -Loss 0.108\n"
          ]
        },
        {
          "output_type": "stream",
          "name": "stderr",
          "text": [
            "100%|██████████| 387/387 [00:03<00:00, 118.98it/s, loss=0.105]\n"
          ]
        },
        {
          "output_type": "stream",
          "name": "stdout",
          "text": [
            "epoch 19 -Loss 0.105\n"
          ]
        },
        {
          "output_type": "stream",
          "name": "stderr",
          "text": [
            "100%|██████████| 387/387 [00:03<00:00, 120.47it/s, loss=0.106]"
          ]
        },
        {
          "output_type": "stream",
          "name": "stdout",
          "text": [
            "epoch 20 -Loss 0.106\n",
            "Time for training using PyTorch 64.577247\n"
          ]
        },
        {
          "output_type": "stream",
          "name": "stderr",
          "text": [
            "\n"
          ]
        }
      ]
    },
    {
      "cell_type": "code",
      "metadata": {
        "id": "34cbmGnjpMtR"
      },
      "source": [
        "def train_model(model, train_dataloader, optimizer, criterion, device):\n",
        "    epoch_loss = 0\n",
        "    epoch_acc = 0\n",
        "    model.train()\n",
        "\n",
        "    for i,batch in enumerate(train_dataloader):\n",
        "        batch=[item.to(device) for item in batch]\n",
        "        sequences, labels=batch\n",
        "        # zero the parameter gradients\n",
        "        optimizer.zero_grad()\n",
        "      \n",
        "        # forward \n",
        "        outputs, _ = model(sequences)\n",
        "        #calculate the loss between the target and the actuals\n",
        "        loss= criterion(input=outputs, target=labels)\n",
        "        #Gradient calculation uisng backward pass\n",
        "        acc=calculate_accuracy(labels, outputs)\n",
        "        loss.backward()\n",
        "        # update the weights\n",
        "        optimizer.step()\n",
        "        epoch_loss += loss.item()\n",
        "        epoch_acc += acc.item()\n",
        "\n",
        "    return epoch_loss / len(train_dataloader), epoch_acc / len(train_dataloader)\n",
        "\n",
        "\n",
        "def evaluate(model, test_dataloader, criterion, device):\n",
        "    epoch_loss = 0\n",
        "    epoch_acc = 0\n",
        "    model.eval()\n",
        "\n",
        "    for i,batch in enumerate(test_dataloader):\n",
        "        batch=[item.to(device) for item in batch]\n",
        "        sequences, labels=batch\n",
        "        # zero the parameter gradients\n",
        "        optimizer.zero_grad()\n",
        "      \n",
        "        # forward \n",
        "        outputs, _ = model(sequences)\n",
        "        #calculate the loss between the target and the actuals\n",
        "        loss= criterion(input=outputs, target=labels)\n",
        "        #Gradient calculation uisng backward pass\n",
        "        acc=calculate_accuracy(labels, outputs)\n",
        "        epoch_loss += loss.item()\n",
        "        epoch_acc += acc.item()\n",
        "\n",
        "    return epoch_loss / len(test_dataloader), epoch_acc / len(test_dataloader)\n"
      ],
      "execution_count": 10,
      "outputs": []
    },
    {
      "cell_type": "code",
      "metadata": {
        "id": "yLuFiSmUO98m"
      },
      "source": [
        "index = 1"
      ],
      "execution_count": 11,
      "outputs": []
    },
    {
      "cell_type": "code",
      "metadata": {
        "colab": {
          "base_uri": "https://localhost:8080/",
          "height": 1000
        },
        "id": "D7OQ_DBFrHs7",
        "outputId": "b5ae272f-dce8-49ab-ab9e-9526e66f483b"
      },
      "source": [
        "print(f'The model has {count_parameters(model):,} trainable parameters')\n",
        "print(f'weights: {weights}')\n",
        "train_per_ep=[]\n",
        "test_per_ep=[]\n",
        "train_acc_per_ep = []\n",
        "test_acc_per_ep =[]\n",
        "test_acc = 0\n",
        "for epoch in range(EPOCHS):\n",
        "    train_loss, train_acc = train_model(model, train_dataloader, optimizer, criterion, device)\n",
        "    test_loss, test_acc = evaluate(model, test_dataloader,criterion, device)\n",
        "    \n",
        "    train_per_ep.append(train_loss)\n",
        "    test_per_ep.append(test_loss)\n",
        "    train_acc_per_ep.append(train_acc *100)\n",
        "    test_acc_per_ep.append(test_acc * 100)\n",
        "    \n",
        "    print(f'Epoch: {epoch + 1:02}')\n",
        "    print(f'\\tTrain Loss: {train_loss:.3f} | Train Acc: {train_acc * 100:.2f}%')\n",
        "    print(f'Epoch: {epoch + 1:02}')\n",
        "    print(f'\\tTest Loss: {test_loss:.3f} | Test Acc: {test_acc * 100:.2f}%')\n",
        "\n",
        "train_per_ep=np.array(train_per_ep)\n",
        "test_per_ep=np.array(test_per_ep)\n",
        "train_acc_per_ep=np.array(train_acc_per_ep)\n",
        "test_acc_per_ep=np.array(test_acc_per_ep)\n",
        "epocs=np.arange(1,EPOCHS+1)\n",
        "print(np.mean(np.abs(np.array(train_per_ep) - np.array(test_per_ep))))\n",
        "plt.figure()\n",
        "plt.plot(epocs,train_per_ep)\n",
        "plt.plot(epocs,test_per_ep)\n",
        "plt.legend(['train loss','test loss'])\n",
        "plt.title(f'learning rate: {LEARNNING_RATE},\\n p dropout: {P_DROPOUT}, batch norm = 1/4')\n",
        "#plt.savefig(f'/content/ex1_DL/results/plot_loss_{index}.png')\n",
        "plt.show()\n",
        "\n",
        "plt.figure()\n",
        "plt.plot(epocs,train_acc_per_ep)\n",
        "plt.plot(epocs,test_acc_per_ep)\n",
        "plt.legend(['train accuracy','test accuracy'])\n",
        "plt.title(f'learning rate: {LEARNNING_RATE},\\n p dropout: {P_DROPOUT}, batch norm = 1/4')\n",
        "#plt.savefig(f'/content/ex1_DL/results/plot_accuracy_{index}.png')\n",
        "plt.show()\n",
        "\n",
        "index += 1"
      ],
      "execution_count": 12,
      "outputs": [
        {
          "output_type": "stream",
          "name": "stdout",
          "text": [
            "The model has 5,336 trainable parameters\n",
            "weights: [0.15871064331730333, 1.9147931376192246]\n",
            "Epoch: 01\n",
            "\tTrain Loss: 0.710 | Train Acc: 88.92%\n",
            "Epoch: 01\n",
            "\tTest Loss: 0.699 | Test Acc: 88.77%\n",
            "Epoch: 02\n",
            "\tTrain Loss: 0.674 | Train Acc: 77.21%\n",
            "Epoch: 02\n",
            "\tTest Loss: 0.639 | Test Acc: 63.27%\n",
            "Epoch: 03\n",
            "\tTrain Loss: 0.589 | Train Acc: 60.77%\n",
            "Epoch: 03\n",
            "\tTest Loss: 0.525 | Test Acc: 63.68%\n",
            "Epoch: 04\n",
            "\tTrain Loss: 0.487 | Train Acc: 67.77%\n",
            "Epoch: 04\n",
            "\tTest Loss: 0.423 | Test Acc: 74.18%\n",
            "Epoch: 05\n",
            "\tTrain Loss: 0.402 | Train Acc: 75.00%\n",
            "Epoch: 05\n",
            "\tTest Loss: 0.344 | Test Acc: 78.47%\n",
            "Epoch: 06\n",
            "\tTrain Loss: 0.342 | Train Acc: 79.31%\n",
            "Epoch: 06\n",
            "\tTest Loss: 0.296 | Test Acc: 81.71%\n",
            "Epoch: 07\n",
            "\tTrain Loss: 0.315 | Train Acc: 81.07%\n",
            "Epoch: 07\n",
            "\tTest Loss: 0.272 | Test Acc: 82.87%\n",
            "Epoch: 08\n",
            "\tTrain Loss: 0.297 | Train Acc: 82.29%\n",
            "Epoch: 08\n",
            "\tTest Loss: 0.258 | Test Acc: 83.42%\n",
            "Epoch: 09\n",
            "\tTrain Loss: 0.278 | Train Acc: 82.99%\n",
            "Epoch: 09\n",
            "\tTest Loss: 0.254 | Test Acc: 83.39%\n",
            "Epoch: 10\n",
            "\tTrain Loss: 0.281 | Train Acc: 83.55%\n",
            "Epoch: 10\n",
            "\tTest Loss: 0.251 | Test Acc: 83.34%\n",
            "Epoch: 11\n",
            "\tTrain Loss: 0.270 | Train Acc: 83.75%\n",
            "Epoch: 11\n",
            "\tTest Loss: 0.248 | Test Acc: 85.52%\n",
            "Epoch: 12\n",
            "\tTrain Loss: 0.263 | Train Acc: 84.15%\n",
            "Epoch: 12\n",
            "\tTest Loss: 0.239 | Test Acc: 85.78%\n",
            "Epoch: 13\n",
            "\tTrain Loss: 0.264 | Train Acc: 84.11%\n",
            "Epoch: 13\n",
            "\tTest Loss: 0.248 | Test Acc: 84.62%\n",
            "Epoch: 14\n",
            "\tTrain Loss: 0.259 | Train Acc: 84.17%\n",
            "Epoch: 14\n",
            "\tTest Loss: 0.239 | Test Acc: 85.61%\n",
            "Epoch: 15\n",
            "\tTrain Loss: 0.253 | Train Acc: 84.59%\n",
            "Epoch: 15\n",
            "\tTest Loss: 0.246 | Test Acc: 86.04%\n",
            "Epoch: 16\n",
            "\tTrain Loss: 0.254 | Train Acc: 84.71%\n",
            "Epoch: 16\n",
            "\tTest Loss: 0.246 | Test Acc: 85.46%\n",
            "Epoch: 17\n",
            "\tTrain Loss: 0.249 | Train Acc: 84.78%\n",
            "Epoch: 17\n",
            "\tTest Loss: 0.243 | Test Acc: 86.29%\n",
            "Epoch: 18\n",
            "\tTrain Loss: 0.247 | Train Acc: 85.11%\n",
            "Epoch: 18\n",
            "\tTest Loss: 0.241 | Test Acc: 86.14%\n",
            "Epoch: 19\n",
            "\tTrain Loss: 0.246 | Train Acc: 85.25%\n",
            "Epoch: 19\n",
            "\tTest Loss: 0.240 | Test Acc: 86.18%\n",
            "Epoch: 20\n",
            "\tTrain Loss: 0.244 | Train Acc: 85.21%\n",
            "Epoch: 20\n",
            "\tTest Loss: 0.235 | Test Acc: 86.29%\n",
            "Epoch: 21\n",
            "\tTrain Loss: 0.242 | Train Acc: 85.22%\n",
            "Epoch: 21\n",
            "\tTest Loss: 0.242 | Test Acc: 86.39%\n",
            "Epoch: 22\n",
            "\tTrain Loss: 0.239 | Train Acc: 85.39%\n",
            "Epoch: 22\n",
            "\tTest Loss: 0.243 | Test Acc: 87.20%\n",
            "Epoch: 23\n",
            "\tTrain Loss: 0.240 | Train Acc: 85.49%\n",
            "Epoch: 23\n",
            "\tTest Loss: 0.240 | Test Acc: 85.89%\n",
            "Epoch: 24\n",
            "\tTrain Loss: 0.236 | Train Acc: 85.64%\n",
            "Epoch: 24\n",
            "\tTest Loss: 0.237 | Test Acc: 86.07%\n",
            "Epoch: 25\n",
            "\tTrain Loss: 0.237 | Train Acc: 85.61%\n",
            "Epoch: 25\n",
            "\tTest Loss: 0.244 | Test Acc: 86.80%\n",
            "Epoch: 26\n",
            "\tTrain Loss: 0.233 | Train Acc: 85.96%\n",
            "Epoch: 26\n",
            "\tTest Loss: 0.245 | Test Acc: 86.50%\n",
            "Epoch: 27\n",
            "\tTrain Loss: 0.229 | Train Acc: 86.04%\n",
            "Epoch: 27\n",
            "\tTest Loss: 0.239 | Test Acc: 85.96%\n",
            "Epoch: 28\n",
            "\tTrain Loss: 0.228 | Train Acc: 85.94%\n",
            "Epoch: 28\n",
            "\tTest Loss: 0.242 | Test Acc: 86.69%\n",
            "Epoch: 29\n",
            "\tTrain Loss: 0.230 | Train Acc: 85.86%\n",
            "Epoch: 29\n",
            "\tTest Loss: 0.244 | Test Acc: 86.55%\n",
            "Epoch: 30\n",
            "\tTrain Loss: 0.225 | Train Acc: 86.27%\n",
            "Epoch: 30\n",
            "\tTest Loss: 0.248 | Test Acc: 87.02%\n",
            "Epoch: 31\n",
            "\tTrain Loss: 0.227 | Train Acc: 86.33%\n",
            "Epoch: 31\n",
            "\tTest Loss: 0.244 | Test Acc: 85.96%\n",
            "Epoch: 32\n",
            "\tTrain Loss: 0.222 | Train Acc: 86.36%\n",
            "Epoch: 32\n",
            "\tTest Loss: 0.248 | Test Acc: 87.02%\n",
            "Epoch: 33\n",
            "\tTrain Loss: 0.227 | Train Acc: 86.46%\n",
            "Epoch: 33\n",
            "\tTest Loss: 0.244 | Test Acc: 86.11%\n",
            "Epoch: 34\n",
            "\tTrain Loss: 0.229 | Train Acc: 86.28%\n",
            "Epoch: 34\n",
            "\tTest Loss: 0.245 | Test Acc: 86.80%\n",
            "Epoch: 35\n",
            "\tTrain Loss: 0.221 | Train Acc: 86.57%\n",
            "Epoch: 35\n",
            "\tTest Loss: 0.258 | Test Acc: 87.49%\n",
            "Epoch: 36\n",
            "\tTrain Loss: 0.222 | Train Acc: 86.47%\n",
            "Epoch: 36\n",
            "\tTest Loss: 0.255 | Test Acc: 87.45%\n",
            "Epoch: 37\n",
            "\tTrain Loss: 0.223 | Train Acc: 86.76%\n",
            "Epoch: 37\n",
            "\tTest Loss: 0.251 | Test Acc: 86.84%\n",
            "Epoch: 38\n",
            "\tTrain Loss: 0.222 | Train Acc: 86.45%\n",
            "Epoch: 38\n",
            "\tTest Loss: 0.248 | Test Acc: 86.83%\n",
            "Epoch: 39\n",
            "\tTrain Loss: 0.219 | Train Acc: 86.62%\n",
            "Epoch: 39\n",
            "\tTest Loss: 0.241 | Test Acc: 86.80%\n",
            "Epoch: 40\n",
            "\tTrain Loss: 0.216 | Train Acc: 86.80%\n",
            "Epoch: 40\n",
            "\tTest Loss: 0.254 | Test Acc: 86.62%\n",
            "Epoch: 41\n",
            "\tTrain Loss: 0.216 | Train Acc: 86.92%\n",
            "Epoch: 41\n",
            "\tTest Loss: 0.253 | Test Acc: 86.95%\n",
            "Epoch: 42\n",
            "\tTrain Loss: 0.216 | Train Acc: 87.13%\n",
            "Epoch: 42\n",
            "\tTest Loss: 0.253 | Test Acc: 87.24%\n",
            "Epoch: 43\n",
            "\tTrain Loss: 0.212 | Train Acc: 87.09%\n",
            "Epoch: 43\n",
            "\tTest Loss: 0.259 | Test Acc: 86.77%\n",
            "Epoch: 44\n",
            "\tTrain Loss: 0.211 | Train Acc: 86.93%\n",
            "Epoch: 44\n",
            "\tTest Loss: 0.267 | Test Acc: 88.00%\n",
            "Epoch: 45\n",
            "\tTrain Loss: 0.210 | Train Acc: 87.46%\n",
            "Epoch: 45\n",
            "\tTest Loss: 0.269 | Test Acc: 87.49%\n",
            "Epoch: 46\n",
            "\tTrain Loss: 0.206 | Train Acc: 87.39%\n",
            "Epoch: 46\n",
            "\tTest Loss: 0.246 | Test Acc: 86.66%\n",
            "Epoch: 47\n",
            "\tTrain Loss: 0.211 | Train Acc: 86.86%\n",
            "Epoch: 47\n",
            "\tTest Loss: 0.258 | Test Acc: 87.17%\n",
            "Epoch: 48\n",
            "\tTrain Loss: 0.205 | Train Acc: 87.54%\n",
            "Epoch: 48\n",
            "\tTest Loss: 0.261 | Test Acc: 87.46%\n",
            "Epoch: 49\n",
            "\tTrain Loss: 0.204 | Train Acc: 87.67%\n",
            "Epoch: 49\n",
            "\tTest Loss: 0.276 | Test Acc: 87.67%\n",
            "Epoch: 50\n",
            "\tTrain Loss: 0.210 | Train Acc: 87.40%\n",
            "Epoch: 50\n",
            "\tTest Loss: 0.265 | Test Acc: 87.60%\n",
            "0.0277987540827087\n"
          ]
        },
        {
          "output_type": "display_data",
          "data": {
            "image/png": "[encoded data removed]",
            "text/plain": [
              "<Figure size 432x288 with 1 Axes>"
            ]
          },
          "metadata": {
            "needs_background": "light"
          }
        },
        {
          "output_type": "display_data",
          "data": {
            "image/png": "[encoded data removed]",
            "text/plain": [
              "<Figure size 432x288 with 1 Axes>"
            ]
          },
          "metadata": {
            "needs_background": "light"
          }
        }
      ]
    },
    {
      "cell_type": "code",
      "metadata": {
        "colab": {
          "base_uri": "https://localhost:8080/"
        },
        "id": "Lw7GZ0uXab_W",
        "outputId": "d0e92a5b-8e20-49b1-d925-2b6c70e91135"
      },
      "source": [
        "seq, sequences=spike_seq('/content/ex1_DL/resorces/spike_acid.txt')\n",
        "print(len(seq))\n",
        "seq = torch.from_numpy(seq.astype('float32'))\n",
        "seq = seq.to(device)\n",
        "y_pred, _ = model(seq)\n",
        "z = y_pred\n",
        "my_softmax = nn.Softmax(dim=1)\n",
        "z = my_softmax(z)\n",
        "top_five = torch.topk(z[:,1], 5)\n",
        "print(top_five[0])\n",
        "result = list()\n",
        "for index in top_five[1]:\n",
        "    result.append(sequences[index])\n",
        "print(result)\n"
      ],
      "execution_count": null,
      "outputs": [
        {
          "output_type": "stream",
          "name": "stdout",
          "text": [
            "1264\n",
            "tensor([0.9748, 0.9696, 0.9587, 0.9576, 0.9504], grad_fn=<TopkBackward>)\n",
            "['ALLAGTITS', 'VLLPLVSSQ', 'NLREFVFKN', 'FLMDLEGKQ', 'ALTGIAVEQ']\n"
          ]
        }
      ]
    },
    {
      "cell_type": "code",
      "metadata": {
        "id": "Bo3ITfw82-zz",
        "colab": {
          "base_uri": "https://localhost:8080/"
        },
        "outputId": "d49b0af7-11ba-4d59-a496-0c94aa1adcae"
      },
      "source": [
        "seq=read_data('/content/ex1_DL/resorces/test_set.txt', None)\n",
        "print(len(seq))\n",
        "seq = torch.from_numpy(seq.astype('float32'))\n",
        "seq = seq.to(device)\n",
        "y_pred, _ = model(seq)\n",
        "z = y_pred\n",
        "my_softmax = nn.Softmax(dim=1)\n",
        "z = my_softmax(z)\n",
        "print(len(torch.where(z[:,0] > 0.5)[0]) / len(z))\n",
        "# print(len(torch.where(z[:,0] > 0.5)[0]) / len(z))\n"
      ],
      "execution_count": null,
      "outputs": [
        {
          "output_type": "stream",
          "name": "stdout",
          "text": [
            "24492\n",
            "0.8570553650171484\n"
          ]
        }
      ]
    },
    {
      "cell_type": "markdown",
      "metadata": {
        "id": "dLnkMmChtEND"
      },
      "source": [
        "# Q7"
      ]
    },
    {
      "cell_type": "code",
      "metadata": {
        "colab": {
          "base_uri": "https://localhost:8080/"
        },
        "id": "p_nPSdmDkVTw",
        "outputId": "534df50f-ba2d-497b-9bf6-34b34ea26a3e"
      },
      "source": [
        "seq, sequences=spike_seq('/content/ex1_DL/resorces/spike_acid.txt')\n",
        "print(len(seq))\n",
        "seq = torch.from_numpy(seq.astype('float32'))\n",
        "seq = seq.to(device)\n",
        "y_pred, _ = model(seq)\n",
        "z = y_pred\n",
        "my_softmax = nn.Softmax(dim=1)\n",
        "z = my_softmax(z)\n",
        "top_five = torch.topk(z[:,1], 5)\n",
        "print(top_five[0])\n",
        "result = list()\n",
        "for index in top_five[1]:\n",
        "    result.append(sequences[index])\n",
        "print(result)\n"
      ],
      "execution_count": null,
      "outputs": [
        {
          "output_type": "stream",
          "name": "stdout",
          "text": [
            "1264\n",
            "tensor([0.9765, 0.9653, 0.9630, 0.9621, 0.9608])\n",
            "['ALLAGTITS', 'NLREFVFKN', 'FPREGVFVS', 'FLVLLPLVS', 'LLFNKVTLA']\n"
          ]
        }
      ]
    },
    {
      "cell_type": "code",
      "metadata": {
        "id": "S5OTtkZfva5O"
      },
      "source": [
        "random_indexes = np.random.randint(20, size=(9))\n",
        "w1 = torch.zeros((1, 9, 20))\n",
        "for i in range(len(random_indexes)):\n",
        "    w1[0, i, random_indexes[i]] +=0 \n",
        "w1 = w1.flatten(1)\n",
        "y = torch.ones(1)"
      ],
      "execution_count": 20,
      "outputs": []
    },
    {
      "cell_type": "code",
      "metadata": {
        "id": "9M69mI6xurcN",
        "colab": {
          "base_uri": "https://localhost:8080/",
          "height": 1000
        },
        "outputId": "51f979fc-8f9c-4f74-b450-f400e64edf14"
      },
      "source": [
        "f = model\n",
        "f.requires_grad_(False)\n",
        "\n",
        "x = nn.Parameter(w1, requires_grad=True)\n",
        "print(x)\n",
        "optim = torch.optim.SGD([x], lr=0.08)\n",
        "c_entropy = nn.CrossEntropyLoss()\n",
        "loss_values = list()\n",
        "nums = list()\n",
        "probs = list()\n",
        "soft_max = nn.Softmax(dim=1)\n",
        "\n",
        "num_steps = 10  # how many optim steps to take\n",
        "for _ in range(1, num_steps):\n",
        "    loss = c_entropy(f(x)[0], y.type(torch.LongTensor))\n",
        "    loss.backward()\n",
        "    loss_values.append(loss)\n",
        "    t = soft_max(f(x)[0])\n",
        "    probs.append(t[0][1])\n",
        "    optim.step()\n",
        "    optim.zero_grad()\n",
        "    nums.append(_)\n",
        "\n",
        "\n",
        "plt.figure()\n",
        "plt.plot(nums,loss_values)\n",
        "plt.legend(['loss_values'])\n",
        "# plt.savefig(f'/content/ex1_DL/results/plot_loss_{index}.png')\n",
        "plt.show()\n",
        "\n",
        "plt.figure()\n",
        "plt.plot(nums,probs)\n",
        "plt.legend(['probs'])\n",
        "# plt.savefig(f'/content/ex1_DL/results/plot_loss_{index}.png')\n",
        "plt.show()\n",
        "\n",
        "x = nn.Parameter(x, requires_grad=False)    \n",
        "print(soft_max(f(x)[0]))\n",
        "x = x.reshape(9,20)\n",
        "#print(x)\n",
        "#x= x.abs()\n",
        "#x = 1 - x\n",
        "a = x.argmax(1)\n",
        "m = torch.zeros (x.shape).scatter (1, a.unsqueeze (1), 1.0)\n",
        "print(m)\n",
        "\n",
        "print(soft_max(f(m.reshape(1, 180))[0]))\n",
        "# .type(torch.LongTensor)"
      ],
      "execution_count": 23,
      "outputs": [
        {
          "output_type": "stream",
          "name": "stdout",
          "text": [
            "Parameter containing:\n",
            "tensor([[ 3.6367e-02, -7.4397e-02, -7.9174e-02, -1.6869e-01, -1.7384e-02,\n",
            "         -1.9499e-01, -3.9745e-02,  3.7872e-02, -8.2079e-02, -2.1863e-02,\n",
            "         -2.2991e-02, -4.4998e-02,  3.3769e-03,  1.0978e-01, -9.1101e-02,\n",
            "          2.1294e-02, -2.9207e-03, -2.2652e-02,  8.7856e-02, -3.7038e-02,\n",
            "         -2.3803e-01, -7.0037e-02, -1.3187e-01,  4.5386e-02,  9.2525e-02,\n",
            "         -8.4059e-02, -1.3460e-01, -1.4165e-01, -1.6558e-01,  2.0131e-02,\n",
            "          1.7202e-01, -7.7175e-02,  8.8795e-02, -1.9147e-01, -3.2955e-03,\n",
            "         -1.5443e-01, -2.2470e-01, -2.6147e-01, -2.0377e-01, -6.8290e-02,\n",
            "          1.5284e-02,  9.6926e-02, -4.5086e-02, -1.3606e-01, -3.8202e-01,\n",
            "         -2.0953e-01, -5.8198e-02, -5.0936e-02, -1.1405e-01,  9.2117e-02,\n",
            "          1.2809e-01,  1.2559e-01,  8.6375e-02,  7.8300e-02, -3.0245e-01,\n",
            "         -1.8732e-03, -1.6600e-03,  1.1827e-01,  8.9167e-02,  2.2544e-02,\n",
            "          1.0429e-02, -7.7489e-02,  2.0774e-02,  3.8354e-02, -1.3672e-01,\n",
            "          4.4555e-02, -6.0567e-02, -7.9900e-03, -7.5814e-02, -1.0776e-02,\n",
            "         -6.2128e-02, -9.1262e-02, -5.3263e-02,  1.4218e-02,  2.0070e-02,\n",
            "         -3.4047e-02, -2.6691e-02, -7.7314e-02, -9.2948e-02, -2.8619e-02,\n",
            "         -4.0187e-02,  2.7470e-02, -2.7715e-02, -1.4129e-02, -8.4800e-02,\n",
            "         -5.1234e-02, -5.5745e-02, -2.3854e-02, -5.7824e-03,  1.9923e-02,\n",
            "         -1.5723e-02, -1.8300e-02, -1.1260e-02,  1.6996e-02, -1.2107e-01,\n",
            "         -3.9504e-02, -1.5203e-02, -3.6953e-02,  4.7886e-02, -1.1718e-02,\n",
            "         -4.7688e-02, -1.1370e-02,  2.5631e-02, -2.4698e-02, -2.9754e-01,\n",
            "          3.6872e-03, -4.7808e-02, -1.2622e-01, -5.4024e-02,  7.2166e-02,\n",
            "          6.9336e-02, -7.6748e-02, -2.1314e-02, -7.0744e-02,  5.0681e-02,\n",
            "          3.8135e-02, -5.1581e-03, -7.9773e-02, -7.9574e-02,  1.0635e-01,\n",
            "         -7.1031e-03, -1.1723e-02, -1.1432e-01, -1.9840e-01, -3.5613e-01,\n",
            "         -9.3600e-02, -1.3812e-01, -7.9116e-02, -5.8156e-02,  1.5789e-01,\n",
            "          1.5636e-01, -1.0024e-01,  3.1833e-02,  4.5307e-02,  5.5691e-02,\n",
            "         -6.9601e-02,  1.1479e-03,  4.5755e-02,  2.6862e-02,  1.2298e-01,\n",
            "          6.6114e-03, -4.3362e-02, -8.2409e-02, -5.1207e-02, -1.1159e-01,\n",
            "         -1.6435e-03, -3.4267e-02, -4.5197e-04, -8.5588e-02, -7.8824e-03,\n",
            "         -3.6170e-02, -9.8892e-02, -1.0793e-01,  1.7654e-02, -4.3111e-03,\n",
            "         -3.1064e-03,  4.4585e-02, -4.3783e-02,  3.0548e-02,  5.5102e-03,\n",
            "          3.7179e-02, -1.6960e-01,  9.3302e-02, -1.0259e-01, -1.3463e-01,\n",
            "          6.6890e-02,  1.3477e-01,  4.4598e-02, -2.3645e-01,  7.7250e-02,\n",
            "         -1.4054e-02, -2.0269e-01, -9.8858e-02, -2.0944e-01, -2.8711e-04,\n",
            "         -4.2814e-02, -9.3464e-02, -2.1294e-01, -2.4584e-01,  1.4114e-01]],\n",
            "       requires_grad=True)\n"
          ]
        },
        {
          "output_type": "display_data",
          "data": {
            "image/png": "[encoded data removed]",
            "text/plain": [
              "<Figure size 432x288 with 1 Axes>"
            ]
          },
          "metadata": {
            "needs_background": "light"
          }
        },
        {
          "output_type": "display_data",
          "data": {
            "image/png": "[encoded data removed]",
            "text/plain": [
              "<Figure size 432x288 with 1 Axes>"
            ]
          },
          "metadata": {
            "needs_background": "light"
          }
        },
        {
          "output_type": "stream",
          "name": "stdout",
          "text": [
            "tensor([[1.2233e-05, 9.9999e-01]])\n",
            "tensor([[0., 0., 0., 0., 0., 0., 0., 0., 0., 0., 0., 0., 0., 1., 0., 0., 0., 0.,\n",
            "         0., 0.],\n",
            "        [0., 0., 0., 0., 0., 0., 0., 0., 0., 0., 1., 0., 0., 0., 0., 0., 0., 0.,\n",
            "         0., 0.],\n",
            "        [0., 0., 0., 0., 0., 0., 0., 0., 0., 0., 1., 0., 0., 0., 0., 0., 0., 0.,\n",
            "         0., 0.],\n",
            "        [0., 0., 0., 0., 0., 1., 0., 0., 0., 0., 0., 0., 0., 0., 0., 0., 0., 0.,\n",
            "         0., 0.],\n",
            "        [0., 0., 0., 0., 0., 0., 0., 0., 0., 0., 0., 0., 0., 0., 0., 0., 0., 0.,\n",
            "         1., 0.],\n",
            "        [0., 0., 0., 0., 0., 0., 0., 0., 0., 0., 0., 0., 0., 0., 0., 0., 0., 0.,\n",
            "         0., 1.],\n",
            "        [0., 0., 0., 0., 0., 0., 0., 0., 0., 1., 0., 0., 0., 0., 0., 0., 0., 0.,\n",
            "         0., 0.],\n",
            "        [0., 0., 0., 0., 0., 0., 0., 0., 0., 0., 0., 0., 0., 0., 0., 0., 1., 0.,\n",
            "         0., 0.],\n",
            "        [0., 0., 0., 0., 0., 0., 0., 0., 0., 0., 0., 0., 0., 0., 0., 0., 0., 0.,\n",
            "         0., 1.]])\n",
            "tensor([[0.0023, 0.9977]])\n"
          ]
        }
      ]
    }
  ]
}