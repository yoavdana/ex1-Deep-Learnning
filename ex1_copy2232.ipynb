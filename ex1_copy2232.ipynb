{
  "nbformat": 4,
  "nbformat_minor": 0,
  "metadata": {
    "colab": {
      "name": "ex1.ipynb",
      "provenance": [],
      "include_colab_link": true
    },
    "kernelspec": {
      "name": "python3",
      "display_name": "Python 3"
    },
    "language_info": {
      "name": "python"
    },
    "accelerator": "GPU"
  },
  "cells": [
    {
      "cell_type": "markdown",
      "metadata": {
        "id": "view-in-github",
        "colab_type": "text"
      },
      "source": [
        "<a href=\"https://colab.research.google.com/github/yoavdana/ex1_DL/blob/main/ex1_copy2232.ipynb\" target=\"_parent\"><img src=\"https://colab.research.google.com/assets/colab-badge.svg\" alt=\"Open In Colab\"/></a>"
      ]
    },
    {
      "cell_type": "code",
      "metadata": {
        "colab": {
          "base_uri": "https://localhost:8080/"
        },
        "id": "B3RC-HpHQ-Hs",
        "outputId": "5adc9f81-5135-4eeb-d97c-25a6d9b42b9a"
      },
      "source": [
        "!git clone https://github.com/yoavdana/ex1_DL.git"
      ],
      "execution_count": 3,
      "outputs": [
        {
          "output_type": "stream",
          "name": "stdout",
          "text": [
            "Cloning into 'ex1_DL'...\n",
            "remote: Enumerating objects: 109, done.\u001b[K\n",
            "remote: Counting objects: 100% (109/109), done.\u001b[K\n",
            "remote: Compressing objects: 100% (93/93), done.\u001b[K\n",
            "remote: Total 109 (delta 38), reused 48 (delta 9), pack-reused 0\u001b[K\n",
            "Receiving objects: 100% (109/109), 59.26 MiB | 30.10 MiB/s, done.\n",
            "Resolving deltas: 100% (38/38), done.\n"
          ]
        }
      ]
    },
    {
      "cell_type": "code",
      "metadata": {
        "id": "kew0gkAsRDWn"
      },
      "source": [
        "import torch \n",
        "import numpy as np\n",
        "import scipy.stats as si\n",
        "import torch\n",
        "import torch.nn as nn\n",
        "import numpy as np\n",
        "import torch.nn.functional as F\n",
        "from sklearn.metrics import f1_score\n",
        "import torch.optim as optim\n",
        "import torch.utils.data as data\n",
        "from time import time\n",
        "import matplotlib.pyplot as plt\n",
        "import torchvision.transforms as transforms\n",
        "from tqdm import tqdm\n",
        "import pandas as pd"
      ],
      "execution_count": 4,
      "outputs": []
    },
    {
      "cell_type": "markdown",
      "metadata": {
        "id": "knIQ-N2mRdQH"
      },
      "source": [
        "# Loading Data"
      ]
    },
    {
      "cell_type": "markdown",
      "metadata": {
        "id": "5_PDI34NMRjw"
      },
      "source": [
        "Data Proccesing"
      ]
    },
    {
      "cell_type": "code",
      "metadata": {
        "id": "66jPLZBeMMTK"
      },
      "source": [
        "SEQ_LENGTH = 20\n",
        "BATCH_SIZE = 64\n",
        "MAPPING = {'A': 0, 'R': 1, 'N': 2, 'D': 3, 'C': 4, 'E': 5, 'Q': 6, 'G': 7, 'H': 8, 'I': 9, 'L': 10, 'K': 11,\n",
        "              'M': 12, 'F': 13, 'P': 14, 'S': 15, 'T': 16, 'W': 17, 'Y': 18, 'V': 19}\n",
        "\n",
        "\n",
        "def data_to_input(sequence, pos_or_neg):\n",
        "    map=np.zeros((9, 20))\n",
        "    for i, seq in enumerate(sequence):\n",
        "        map[i,MAPPING[seq]]+=1\n",
        "    map = map.flatten()\n",
        "    if pos_or_neg==None:\n",
        "        return map\n",
        "    return np.concatenate([map, np.array([pos_or_neg])])\n",
        "\n",
        "def read_data(filename, pos_or_neg):\n",
        "    file = open(filename, 'r')\n",
        "    lines=file.readlines()\n",
        "    data = np.zeros((len(lines), 181))\n",
        "    if pos_or_neg == None:\n",
        "        data = np.zeros((len(lines), 180))\n",
        "    for i, line in enumerate(lines):\n",
        "        input = data_to_input(line.replace('\\n', ''), pos_or_neg)\n",
        "        data[i] = input\n",
        "    return data\n",
        "\n",
        "# def bootstrap(DATA,size,NUMBER_OF_BATCHS):\n",
        "\n",
        "#     new_DATA=np.zeros((size,181))\n",
        "#     N=DATA.shape[0]\n",
        "#     batch_size=N//NUMBER_OF_BATCHS\n",
        "#     for i in range(NUMBER_OF_BATCHS):\n",
        "\n",
        "#         random = np.random.randint(batch_size*i,batch_size*(i+1), size=size//NUMBER_OF_BATCHS)\n",
        "#         new_DATA[((size//NUMBER_OF_BATCHS)*i):(size//NUMBER_OF_BATCHS)*(i+1), :] = DATA[random, :]\n",
        "#     return new_DATA\n",
        "\n",
        "\n",
        "def bootstrap(data,size,NUMBER_OF_BATCHS):\n",
        "\n",
        "    N=data.shape[0]\n",
        "    batch_size=N//NUMBER_OF_BATCHS\n",
        "    for i in range(NUMBER_OF_BATCHS):\n",
        "        random = np.random.randint(batch_size*i,batch_size*(i+1), size=size//NUMBER_OF_BATCHS)\n",
        "        data =np.vstack([DATA,DATA[random, :]])\n",
        "    return data\n",
        "\n",
        "\n",
        "def data_pre_pros(filename_pos,filename_neg):\n",
        "\n",
        "    neg_data=read_data(filename_neg, 0)\n",
        "    pos_data=read_data(filename_pos, 1)\n",
        "    \n",
        "    neg_data_train = neg_data[:int(len(neg_data)*0.9)]\n",
        "    neg_data_test = neg_data[int(len(neg_data)*0.9):]\n",
        "    pos_data_train = pos_data[:int(len(pos_data)*0.9)]\n",
        "    pos_data_test = pos_data[int(len(pos_data)*0.9):]\n",
        "    #pos_data_train = bootstrap(pos_data_train, int(BOOTSTRAP_SIZE*0.9), int(NUMBER_OF_BATCHS*0.9))\n",
        "    #pos_data_test = bootstrap(pos_data_test, int(BOOTSTRAP_SIZE*0.1), int(NUMBER_OF_BATCHS*0.1))\n",
        "\n",
        "    final_data_train = np.concatenate([neg_data_train, pos_data_train])\n",
        "    final_data_test = np.concatenate([neg_data_test, pos_data_test])\n",
        "    return final_data_train, final_data_test\n",
        "\n",
        "\n",
        "def shuffle_data(data_Xy):\n",
        "    np.random.shuffle(data_Xy)\n",
        "    return data_Xy[:,:180],data_Xy[:,-1]\n",
        "\n",
        "\n",
        "def spike_seq(filename):\n",
        "    with open(filename) as f:\n",
        "        lines = f.readlines()[0]\n",
        "        print(lines)\n",
        "        predeict=list()\n",
        "\n",
        "        if len(lines) == 9:\n",
        "            map = np.zeros((9, 20))\n",
        "            for i, seq in enumerate(lines):\n",
        "                map[i, MAPPING[seq]] += 1\n",
        "            map = map.flatten()\n",
        "            predeict.append(map)\n",
        "        else:\n",
        "            for i in range(len(lines)-9):\n",
        "                map = np.zeros((9, 20))\n",
        "                for i, seq in enumerate(lines[i:i+9]):\n",
        "                    map[i, MAPPING[seq]] += 1\n",
        "                map = map.flatten()\n",
        "                predeict.append(map)\n",
        "        \n",
        "        return np.array(predeict)\n"
      ],
      "execution_count": 113,
      "outputs": []
    },
    {
      "cell_type": "code",
      "metadata": {
        "id": "jYNbU_SaRgzZ"
      },
      "source": [
        "filename_pos='/content/ex1_DL/resorces/pos_A0201.txt'\n",
        "filename_neg='/content/ex1_DL/resorces/neg_A0201.txt'\n",
        "\n",
        "train_set, test_set=data_pre_pros(filename_pos,filename_neg)\n",
        "train_x, train_y = train_set[:,:180], train_set[:,-1]\n",
        "test_x, test_y = test_set[:,:180], test_set[:,-1]\n",
        "\n",
        "train_target = torch.from_numpy(train_y.astype(np.int64))\n",
        "train = torch.from_numpy(train_x.astype(np.float32)) \n",
        "train_tensor = torch.utils.data.TensorDataset(train, train_target) \n",
        "train_dataloader = torch.utils.data.DataLoader(dataset = train_tensor, batch_size = BATCH_SIZE, shuffle = True)\n",
        "\n",
        "test_target = torch.from_numpy(test_y.astype(np.int64))\n",
        "test = torch.from_numpy(test_x.astype(np.float32)) \n",
        "test_tensor = torch.utils.data.TensorDataset(test, test_target) \n",
        "test_dataloader = torch.utils.data.DataLoader(dataset = test_tensor, batch_size = BATCH_SIZE, shuffle = True)\n"
      ],
      "execution_count": 13,
      "outputs": []
    },
    {
      "cell_type": "markdown",
      "metadata": {
        "id": "WkOKJ3pkTRut"
      },
      "source": [
        "# Evaluation functions"
      ]
    },
    {
      "cell_type": "code",
      "metadata": {
        "id": "08W0jQWQTnvo"
      },
      "source": [
        "def count_parameters(model):\n",
        "    return sum(p.numel() for p in model.parameters() if p.requires_grad)\n",
        "\n",
        "\n",
        "# def calculate_accuracy(y_pred, y):\n",
        "#     top_pred = y_pred.argmax(1, keepdim = True)\n",
        "#     correct = top_pred.eq(y.view_as(top_pred)).sum()\n",
        "#     acc = correct.float() / y.shape[0]\n",
        "#     return acc\n",
        "\n",
        "\n",
        "# def calculate_accuracy(y_pred, y):\n",
        "#     top_pred = y_pred.argmax(1, keepdim = True)\n",
        "#     f1 = f1_score(y_pred,y)\n",
        "#     return f1\n",
        "    \n",
        "\n",
        "def calculate_accuracy(y_true, y_pred, is_training=False):\n",
        "    if y_pred.ndim == 2:\n",
        "        y_pred = y_pred.argmax(dim=1)\n",
        "       \n",
        "   \n",
        "    tp = (y_true * y_pred).sum().to(torch.float32)\n",
        "    tn = ((1 - y_true) * (1 - y_pred)).sum().to(torch.float32)\n",
        "    fp = ((1 - y_true) * y_pred).sum().to(torch.float32)\n",
        "    fn = (y_true * (1 - y_pred)).sum().to(torch.float32)\n",
        "   \n",
        "    epsilon = 1e-7\n",
        "   \n",
        "    precision = tp / (tp + fp + epsilon)\n",
        "    recall = tp / (tp + fn + epsilon)\n",
        "    accuracy = (tp + tn) / (tp + tn + fp + fn + epsilon)\n",
        "   \n",
        "    f1 = 2* (precision*recall) / (precision + recall + epsilon)\n",
        "    f1.requires_grad = is_training\n",
        "    return accuracy"
      ],
      "execution_count": 94,
      "outputs": []
    },
    {
      "cell_type": "markdown",
      "metadata": {
        "id": "PhkcZrZYU9jQ"
      },
      "source": [
        "## Network architecture"
      ]
    },
    {
      "cell_type": "code",
      "metadata": {
        "id": "zU3l7iJlVG6k"
      },
      "source": [
        "# Network parameters\n",
        "INPUT=180\n",
        "INPUT_1=15\n",
        "INPUT_2=10\n",
        "INPUT_3=4\n",
        "INPUT_4=32\n",
        "INPUT_5=16\n",
        "INPUT_6=8\n",
        "INPUT_7=4\n",
        "OUTPUT=2\n",
        "P_DROPOUT=0.1\n",
        "P_DROPOUT_2=0.15\n",
        "\n",
        "LEARNNING_RATE=0.000075\n",
        "\n",
        "BOOTSTRAP_SIZE=15000\n",
        "NUMBER_OF_BATCHS=150\n",
        "\n",
        "EPOCHS = 40"
      ],
      "execution_count": 368,
      "outputs": []
    },
    {
      "cell_type": "code",
      "metadata": {
        "id": "n9TzVlOwVcaI"
      },
      "source": [
        "class Network(nn.Module):\n",
        "    def __init__(self):\n",
        "        super(Network, self).__init__()\n",
        "\n",
        "        self.input_fc = nn.Linear(INPUT, INPUT_1)\n",
        "        \n",
        "        self.hidden_1_fc = nn.Linear(INPUT_1, INPUT_2)\n",
        "        \n",
        "        self.hidden_2_fc = nn.Linear(INPUT_2, INPUT_3)\n",
        "\n",
        "        self.output_fc = nn.Linear(INPUT_3, OUTPUT)\n",
        "\n",
        "        self.dropout = nn.Dropout(P_DROPOUT)\n",
        "\n",
        "        \n",
        "        self.batch_norm_1 = nn.BatchNorm1d(INPUT_1)\n",
        "        self.batch_norm_2 = nn.BatchNorm1d(INPUT_2)\n",
        "\n",
        "\n",
        "\n",
        "    def forward(self, x):\n",
        "   \n",
        "\n",
        "        h_1 = F.relu(self.batch_norm_1(self.input_fc(x)))\n",
        "\n",
        "        h_1=self.dropout(h_1)\n",
        "\n",
        "        h_2 = F.relu(self.batch_norm_2(self.hidden_1_fc(h_1)))\n",
        "\n",
        "        # h_2=self.dropout(h_2)\n",
        "\n",
        "        h_3 = F.relu(self.hidden_2_fc(h_2))\n",
        "\n",
        "        #h_3=self.dropout2(h_3)\n",
        "\n",
        "        y_pred = self.output_fc(h_3)\n",
        "\n",
        "        return y_pred, h_3\n",
        "\n",
        "\n",
        "\n",
        "device = torch.device('cuda' if torch.cuda.is_available() else 'cpu')\n",
        "model = Network().to(device)\n",
        "optimizer=optim.Adam(model.parameters(), lr=LEARNNING_RATE)\n",
        "weights = [train_set.shape[0]/(2*2.4*np.sum(train_set[:, -1])), 2.4*np.sum(train_set[:, -1])/(2*(train_set.shape[0]-np.sum(train_set[:, -1])))] #as class distribution\n",
        "weights.reverse()\n",
        "class_weights = torch.FloatTensor(weights).to(device)\n",
        "criterion = nn.CrossEntropyLoss(weight=class_weights)"
      ],
      "execution_count": 369,
      "outputs": []
    },
    {
      "cell_type": "markdown",
      "metadata": {
        "id": "2mb8kMOWPiG_"
      },
      "source": [
        "# Train Loop"
      ]
    },
    {
      "cell_type": "code",
      "metadata": {
        "colab": {
          "base_uri": "https://localhost:8080/"
        },
        "id": "_uFUj0MVPgoO",
        "outputId": "fc93fc54-99ef-4986-ddca-b67d928b26a4"
      },
      "source": [
        "start_time=time()\n",
        "\n",
        "for epoch in range(20):\n",
        "    running_loss=0.0\n",
        "    pbar=tqdm(iterable=train_dataloader)\n",
        "    for i,batch in enumerate(pbar):\n",
        "      batch=[item.to(device) for  item in batch]\n",
        "      sequences, labels=batch\n",
        "      # zero the parameter gradients\n",
        "      optimizer.zero_grad()\n",
        "      # forward \n",
        "      outputs, _ = model(sequences)\n",
        "      #calculate the loss between the target and the actuals\n",
        "      loss= criterion(input=outputs, target=labels)\n",
        "      #Gradient calculation uisng backward pass\n",
        "      loss.backward()\n",
        "      # update the weights\n",
        "      optimizer.step()\n",
        "      running_loss+=loss.item()\n",
        "      pbar.set_postfix(loss=running_loss/(i+1))\n",
        "    pbar.close()\n",
        "    print('epoch %d -Loss %.3f' % (epoch +1,running_loss/(len(train_tensor)/BATCH_SIZE)))      \n",
        "    running_loss = 0.0\n",
        "\n",
        "print(\"Time for training using PyTorch %f\" %(time()-start_time))"
      ],
      "execution_count": 124,
      "outputs": [
        {
          "output_type": "stream",
          "name": "stderr",
          "text": [
            "100%|██████████| 387/387 [00:03<00:00, 122.14it/s, loss=0.289]\n"
          ]
        },
        {
          "output_type": "stream",
          "name": "stdout",
          "text": [
            "epoch 1 -Loss 0.289\n"
          ]
        },
        {
          "output_type": "stream",
          "name": "stderr",
          "text": [
            "100%|██████████| 387/387 [00:03<00:00, 121.26it/s, loss=0.131]\n"
          ]
        },
        {
          "output_type": "stream",
          "name": "stdout",
          "text": [
            "epoch 2 -Loss 0.131\n"
          ]
        },
        {
          "output_type": "stream",
          "name": "stderr",
          "text": [
            "100%|██████████| 387/387 [00:03<00:00, 122.79it/s, loss=0.12]\n"
          ]
        },
        {
          "output_type": "stream",
          "name": "stdout",
          "text": [
            "epoch 3 -Loss 0.120\n"
          ]
        },
        {
          "output_type": "stream",
          "name": "stderr",
          "text": [
            "100%|██████████| 387/387 [00:03<00:00, 121.10it/s, loss=0.116]\n"
          ]
        },
        {
          "output_type": "stream",
          "name": "stdout",
          "text": [
            "epoch 4 -Loss 0.116\n"
          ]
        },
        {
          "output_type": "stream",
          "name": "stderr",
          "text": [
            "100%|██████████| 387/387 [00:03<00:00, 121.53it/s, loss=0.114]\n"
          ]
        },
        {
          "output_type": "stream",
          "name": "stdout",
          "text": [
            "epoch 5 -Loss 0.114\n"
          ]
        },
        {
          "output_type": "stream",
          "name": "stderr",
          "text": [
            "100%|██████████| 387/387 [00:03<00:00, 122.54it/s, loss=0.116]\n"
          ]
        },
        {
          "output_type": "stream",
          "name": "stdout",
          "text": [
            "epoch 6 -Loss 0.116\n"
          ]
        },
        {
          "output_type": "stream",
          "name": "stderr",
          "text": [
            "100%|██████████| 387/387 [00:03<00:00, 122.28it/s, loss=0.11]\n"
          ]
        },
        {
          "output_type": "stream",
          "name": "stdout",
          "text": [
            "epoch 7 -Loss 0.110\n"
          ]
        },
        {
          "output_type": "stream",
          "name": "stderr",
          "text": [
            "100%|██████████| 387/387 [00:03<00:00, 120.90it/s, loss=0.114]\n"
          ]
        },
        {
          "output_type": "stream",
          "name": "stdout",
          "text": [
            "epoch 8 -Loss 0.114\n"
          ]
        },
        {
          "output_type": "stream",
          "name": "stderr",
          "text": [
            "100%|██████████| 387/387 [00:03<00:00, 120.51it/s, loss=0.109]\n"
          ]
        },
        {
          "output_type": "stream",
          "name": "stdout",
          "text": [
            "epoch 9 -Loss 0.109\n"
          ]
        },
        {
          "output_type": "stream",
          "name": "stderr",
          "text": [
            "100%|██████████| 387/387 [00:03<00:00, 118.58it/s, loss=0.109]\n"
          ]
        },
        {
          "output_type": "stream",
          "name": "stdout",
          "text": [
            "epoch 10 -Loss 0.110\n"
          ]
        },
        {
          "output_type": "stream",
          "name": "stderr",
          "text": [
            "100%|██████████| 387/387 [00:03<00:00, 117.21it/s, loss=0.111]\n"
          ]
        },
        {
          "output_type": "stream",
          "name": "stdout",
          "text": [
            "epoch 11 -Loss 0.111\n"
          ]
        },
        {
          "output_type": "stream",
          "name": "stderr",
          "text": [
            "100%|██████████| 387/387 [00:03<00:00, 119.94it/s, loss=0.11]\n"
          ]
        },
        {
          "output_type": "stream",
          "name": "stdout",
          "text": [
            "epoch 12 -Loss 0.110\n"
          ]
        },
        {
          "output_type": "stream",
          "name": "stderr",
          "text": [
            "100%|██████████| 387/387 [00:03<00:00, 120.39it/s, loss=0.107]\n"
          ]
        },
        {
          "output_type": "stream",
          "name": "stdout",
          "text": [
            "epoch 13 -Loss 0.107\n"
          ]
        },
        {
          "output_type": "stream",
          "name": "stderr",
          "text": [
            "100%|██████████| 387/387 [00:03<00:00, 120.04it/s, loss=0.109]\n"
          ]
        },
        {
          "output_type": "stream",
          "name": "stdout",
          "text": [
            "epoch 14 -Loss 0.109\n"
          ]
        },
        {
          "output_type": "stream",
          "name": "stderr",
          "text": [
            "100%|██████████| 387/387 [00:03<00:00, 120.90it/s, loss=0.108]\n"
          ]
        },
        {
          "output_type": "stream",
          "name": "stdout",
          "text": [
            "epoch 15 -Loss 0.108\n"
          ]
        },
        {
          "output_type": "stream",
          "name": "stderr",
          "text": [
            "100%|██████████| 387/387 [00:03<00:00, 119.06it/s, loss=0.106]\n"
          ]
        },
        {
          "output_type": "stream",
          "name": "stdout",
          "text": [
            "epoch 16 -Loss 0.106\n"
          ]
        },
        {
          "output_type": "stream",
          "name": "stderr",
          "text": [
            "100%|██████████| 387/387 [00:03<00:00, 118.97it/s, loss=0.106]\n"
          ]
        },
        {
          "output_type": "stream",
          "name": "stdout",
          "text": [
            "epoch 17 -Loss 0.106\n"
          ]
        },
        {
          "output_type": "stream",
          "name": "stderr",
          "text": [
            "100%|██████████| 387/387 [00:03<00:00, 117.70it/s, loss=0.108]\n"
          ]
        },
        {
          "output_type": "stream",
          "name": "stdout",
          "text": [
            "epoch 18 -Loss 0.108\n"
          ]
        },
        {
          "output_type": "stream",
          "name": "stderr",
          "text": [
            "100%|██████████| 387/387 [00:03<00:00, 118.98it/s, loss=0.105]\n"
          ]
        },
        {
          "output_type": "stream",
          "name": "stdout",
          "text": [
            "epoch 19 -Loss 0.105\n"
          ]
        },
        {
          "output_type": "stream",
          "name": "stderr",
          "text": [
            "100%|██████████| 387/387 [00:03<00:00, 120.47it/s, loss=0.106]"
          ]
        },
        {
          "output_type": "stream",
          "name": "stdout",
          "text": [
            "epoch 20 -Loss 0.106\n",
            "Time for training using PyTorch 64.577247\n"
          ]
        },
        {
          "output_type": "stream",
          "name": "stderr",
          "text": [
            "\n"
          ]
        }
      ]
    },
    {
      "cell_type": "code",
      "metadata": {
        "id": "34cbmGnjpMtR"
      },
      "source": [
        "def train_model(model, train_dataloader, optimizer, criterion, device):\n",
        "    epoch_loss = 0\n",
        "    epoch_acc = 0\n",
        "    model.train()\n",
        "\n",
        "    for i,batch in enumerate(train_dataloader):\n",
        "        batch=[item.to(device) for item in batch]\n",
        "        sequences, labels=batch\n",
        "        # zero the parameter gradients\n",
        "        optimizer.zero_grad()\n",
        "      \n",
        "        # forward \n",
        "        outputs, _ = model(sequences)\n",
        "        #calculate the loss between the target and the actuals\n",
        "        loss= criterion(input=outputs, target=labels)\n",
        "        #Gradient calculation uisng backward pass\n",
        "        acc=calculate_accuracy(labels, outputs)\n",
        "        loss.backward()\n",
        "        # update the weights\n",
        "        optimizer.step()\n",
        "        epoch_loss += loss.item()\n",
        "        epoch_acc += acc.item()\n",
        "\n",
        "    return epoch_loss / len(train_dataloader), epoch_acc / len(train_dataloader)\n",
        "\n",
        "\n",
        "def evaluate(model, test_dataloader, criterion, device):\n",
        "    epoch_loss = 0\n",
        "    epoch_acc = 0\n",
        "    model.eval()\n",
        "\n",
        "    for i,batch in enumerate(test_dataloader):\n",
        "        batch=[item.to(device) for item in batch]\n",
        "        sequences, labels=batch\n",
        "        # zero the parameter gradients\n",
        "        optimizer.zero_grad()\n",
        "      \n",
        "        # forward \n",
        "        outputs, _ = model(sequences)\n",
        "        #calculate the loss between the target and the actuals\n",
        "        loss= criterion(input=outputs, target=labels)\n",
        "        #Gradient calculation uisng backward pass\n",
        "        acc=calculate_accuracy(labels, outputs)\n",
        "        epoch_loss += loss.item()\n",
        "        epoch_acc += acc.item()\n",
        "\n",
        "    return epoch_loss / len(test_dataloader), epoch_acc / len(test_dataloader)\n"
      ],
      "execution_count": 364,
      "outputs": []
    },
    {
      "cell_type": "code",
      "metadata": {
        "colab": {
          "base_uri": "https://localhost:8080/",
          "height": 1000
        },
        "id": "D7OQ_DBFrHs7",
        "outputId": "cafd0874-5bb5-42ee-b340-435ce6cf06b3"
      },
      "source": [
        "print(f'The model has {count_parameters(model):,} trainable parameters')\n",
        "print(f'weights: {weights}')\n",
        "train_per_ep=[]\n",
        "test_per_ep=[]\n",
        "test_acc = 0\n",
        "for epoch in range(EPOCHS):\n",
        "    train_loss, train_acc = train_model(model, train_dataloader, optimizer, criterion, device)\n",
        "    test_loss, test_acc = evaluate(model, test_dataloader,criterion, device)\n",
        "    \n",
        "    train_per_ep.append(train_loss)\n",
        "    test_per_ep.append(test_loss)\n",
        "    \n",
        "    print(f'Epoch: {epoch + 1:02}')\n",
        "    print(f'\\tTrain Loss: {train_loss:.3f} | Train Acc: {train_acc * 100:.2f}%')\n",
        "    print(f'Epoch: {epoch + 1:02}')\n",
        "    print(f'\\tTest Loss: {test_loss:.3f} | Test Acc: {test_acc * 100:.2f}%')\n",
        "\n",
        "train_per_ep=np.array(train_per_ep)\n",
        "test_per_ep=np.array(test_per_ep)\n",
        "epocs=np.arange(1,EPOCHS+1)\n",
        "print(np.mean(np.abs(np.array(train_per_ep) - np.array(test_per_ep))))\n",
        "plt.figure()\n",
        "plt.plot(epocs,train_per_ep)\n",
        "plt.plot(epocs,test_per_ep)\n",
        "plt.legend(['train loss','test loss'])\n",
        "plt.show()"
      ],
      "execution_count": 370,
      "outputs": [
        {
          "output_type": "stream",
          "name": "stdout",
          "text": [
            "The model has 2,979 trainable parameters\n",
            "weights: [0.14650213229289538, 1.9147931376192246]\n",
            "Epoch: 01\n",
            "\tTrain Loss: 0.674 | Train Acc: 20.58%\n",
            "Epoch: 01\n",
            "\tTest Loss: 0.655 | Test Acc: 20.98%\n",
            "Epoch: 02\n",
            "\tTrain Loss: 0.633 | Train Acc: 26.66%\n",
            "Epoch: 02\n",
            "\tTest Loss: 0.607 | Test Acc: 32.18%\n",
            "Epoch: 03\n",
            "\tTrain Loss: 0.578 | Train Acc: 39.17%\n",
            "Epoch: 03\n",
            "\tTest Loss: 0.541 | Test Acc: 45.96%\n",
            "Epoch: 04\n",
            "\tTrain Loss: 0.510 | Train Acc: 52.92%\n",
            "Epoch: 04\n",
            "\tTest Loss: 0.467 | Test Acc: 61.93%\n",
            "Epoch: 05\n",
            "\tTrain Loss: 0.448 | Train Acc: 63.96%\n",
            "Epoch: 05\n",
            "\tTest Loss: 0.406 | Test Acc: 68.43%\n",
            "Epoch: 06\n",
            "\tTrain Loss: 0.392 | Train Acc: 71.26%\n",
            "Epoch: 06\n",
            "\tTest Loss: 0.361 | Test Acc: 74.04%\n",
            "Epoch: 07\n",
            "\tTrain Loss: 0.348 | Train Acc: 75.23%\n",
            "Epoch: 07\n",
            "\tTest Loss: 0.320 | Test Acc: 77.74%\n",
            "Epoch: 08\n",
            "\tTrain Loss: 0.321 | Train Acc: 77.85%\n",
            "Epoch: 08\n",
            "\tTest Loss: 0.297 | Test Acc: 79.28%\n",
            "Epoch: 09\n",
            "\tTrain Loss: 0.301 | Train Acc: 79.76%\n",
            "Epoch: 09\n",
            "\tTest Loss: 0.279 | Test Acc: 81.02%\n",
            "Epoch: 10\n",
            "\tTrain Loss: 0.288 | Train Acc: 80.54%\n",
            "Epoch: 10\n",
            "\tTest Loss: 0.268 | Test Acc: 82.26%\n",
            "Epoch: 11\n",
            "\tTrain Loss: 0.277 | Train Acc: 81.70%\n",
            "Epoch: 11\n",
            "\tTest Loss: 0.261 | Test Acc: 82.59%\n",
            "Epoch: 12\n",
            "\tTrain Loss: 0.268 | Train Acc: 82.16%\n",
            "Epoch: 12\n",
            "\tTest Loss: 0.258 | Test Acc: 81.31%\n",
            "Epoch: 13\n",
            "\tTrain Loss: 0.264 | Train Acc: 82.58%\n",
            "Epoch: 13\n",
            "\tTest Loss: 0.248 | Test Acc: 83.12%\n",
            "Epoch: 14\n",
            "\tTrain Loss: 0.255 | Train Acc: 83.17%\n",
            "Epoch: 14\n",
            "\tTest Loss: 0.247 | Test Acc: 82.91%\n",
            "Epoch: 15\n",
            "\tTrain Loss: 0.250 | Train Acc: 83.65%\n",
            "Epoch: 15\n",
            "\tTest Loss: 0.242 | Test Acc: 83.86%\n",
            "Epoch: 16\n",
            "\tTrain Loss: 0.246 | Train Acc: 83.82%\n",
            "Epoch: 16\n",
            "\tTest Loss: 0.234 | Test Acc: 84.41%\n",
            "Epoch: 17\n",
            "\tTrain Loss: 0.243 | Train Acc: 84.23%\n",
            "Epoch: 17\n",
            "\tTest Loss: 0.236 | Test Acc: 84.07%\n",
            "Epoch: 18\n",
            "\tTrain Loss: 0.242 | Train Acc: 84.43%\n",
            "Epoch: 18\n",
            "\tTest Loss: 0.240 | Test Acc: 83.71%\n",
            "Epoch: 19\n",
            "\tTrain Loss: 0.242 | Train Acc: 84.35%\n",
            "Epoch: 19\n",
            "\tTest Loss: 0.236 | Test Acc: 83.86%\n",
            "Epoch: 20\n",
            "\tTrain Loss: 0.236 | Train Acc: 84.77%\n",
            "Epoch: 20\n",
            "\tTest Loss: 0.242 | Test Acc: 84.00%\n",
            "Epoch: 21\n",
            "\tTrain Loss: 0.231 | Train Acc: 85.03%\n",
            "Epoch: 21\n",
            "\tTest Loss: 0.236 | Test Acc: 84.58%\n",
            "Epoch: 22\n",
            "\tTrain Loss: 0.236 | Train Acc: 85.07%\n",
            "Epoch: 22\n",
            "\tTest Loss: 0.237 | Test Acc: 84.98%\n",
            "Epoch: 23\n",
            "\tTrain Loss: 0.230 | Train Acc: 85.01%\n",
            "Epoch: 23\n",
            "\tTest Loss: 0.250 | Test Acc: 84.80%\n",
            "Epoch: 24\n",
            "\tTrain Loss: 0.229 | Train Acc: 85.10%\n",
            "Epoch: 24\n",
            "\tTest Loss: 0.244 | Test Acc: 84.94%\n",
            "Epoch: 25\n",
            "\tTrain Loss: 0.226 | Train Acc: 85.57%\n",
            "Epoch: 25\n",
            "\tTest Loss: 0.237 | Test Acc: 84.25%\n",
            "Epoch: 26\n",
            "\tTrain Loss: 0.222 | Train Acc: 85.61%\n",
            "Epoch: 26\n",
            "\tTest Loss: 0.236 | Test Acc: 86.44%\n",
            "Epoch: 27\n",
            "\tTrain Loss: 0.225 | Train Acc: 85.84%\n",
            "Epoch: 27\n",
            "\tTest Loss: 0.239 | Test Acc: 86.40%\n",
            "Epoch: 28\n",
            "\tTrain Loss: 0.217 | Train Acc: 86.12%\n",
            "Epoch: 28\n",
            "\tTest Loss: 0.230 | Test Acc: 86.00%\n",
            "Epoch: 29\n",
            "\tTrain Loss: 0.216 | Train Acc: 86.39%\n",
            "Epoch: 29\n",
            "\tTest Loss: 0.238 | Test Acc: 85.56%\n",
            "Epoch: 30\n",
            "\tTrain Loss: 0.216 | Train Acc: 86.35%\n",
            "Epoch: 30\n",
            "\tTest Loss: 0.231 | Test Acc: 86.36%\n",
            "Epoch: 31\n",
            "\tTrain Loss: 0.215 | Train Acc: 86.31%\n",
            "Epoch: 31\n",
            "\tTest Loss: 0.239 | Test Acc: 87.02%\n",
            "Epoch: 32\n",
            "\tTrain Loss: 0.211 | Train Acc: 86.56%\n",
            "Epoch: 32\n",
            "\tTest Loss: 0.245 | Test Acc: 86.04%\n",
            "Epoch: 33\n",
            "\tTrain Loss: 0.210 | Train Acc: 86.60%\n",
            "Epoch: 33\n",
            "\tTest Loss: 0.239 | Test Acc: 85.96%\n",
            "Epoch: 34\n",
            "\tTrain Loss: 0.212 | Train Acc: 86.67%\n",
            "Epoch: 34\n",
            "\tTest Loss: 0.243 | Test Acc: 85.45%\n",
            "Epoch: 35\n",
            "\tTrain Loss: 0.210 | Train Acc: 86.71%\n",
            "Epoch: 35\n",
            "\tTest Loss: 0.234 | Test Acc: 86.43%\n",
            "Epoch: 36\n",
            "\tTrain Loss: 0.203 | Train Acc: 87.02%\n",
            "Epoch: 36\n",
            "\tTest Loss: 0.244 | Test Acc: 86.47%\n",
            "Epoch: 37\n",
            "\tTrain Loss: 0.201 | Train Acc: 87.37%\n",
            "Epoch: 37\n",
            "\tTest Loss: 0.243 | Test Acc: 86.76%\n",
            "Epoch: 38\n",
            "\tTrain Loss: 0.203 | Train Acc: 87.41%\n",
            "Epoch: 38\n",
            "\tTest Loss: 0.243 | Test Acc: 86.98%\n",
            "Epoch: 39\n",
            "\tTrain Loss: 0.202 | Train Acc: 87.19%\n",
            "Epoch: 39\n",
            "\tTest Loss: 0.238 | Test Acc: 86.73%\n",
            "Epoch: 40\n",
            "\tTrain Loss: 0.201 | Train Acc: 87.45%\n",
            "Epoch: 40\n",
            "\tTest Loss: 0.253 | Test Acc: 87.82%\n",
            "0.02166989414305342\n"
          ]
        },
        {
          "output_type": "display_data",
          "data": {
            "image/png": "[encoded data removed]",
            "text/plain": [
              "<Figure size 432x288 with 1 Axes>"
            ]
          },
          "metadata": {
            "needs_background": "light"
          }
        }
      ]
    },
    {
      "cell_type": "code",
      "metadata": {
        "id": "Lw7GZ0uXab_W",
        "outputId": "d8d3ee0a-c4b5-4f3a-a728-326db4335223",
        "colab": {
          "base_uri": "https://localhost:8080/"
        }
      },
      "source": [
        "seq=spike_seq('/content/ex1_DL/resorces/spike_acid.txt')\n",
        "print(len(seq))\n",
        "seq = torch.from_numpy(seq.astype('float32'))\n",
        "seq = seq.to(device)\n",
        "y_pred, _ = model(seq)\n",
        "z = y_pred\n",
        "my_softmax = nn.Softmax(dim=1)\n",
        "z = my_softmax(z)\n",
        "# print(len(torch.where(z[:,1] > 0.5)[0]) / len(z))\n",
        "# print(len(torch.where(z[:,0] > 0.5)[0]) / len(z))\n",
        "print(len(torch.where(z[:,1] > 0.96)[0]))\n",
        "\n"
      ],
      "execution_count": 290,
      "outputs": [
        {
          "output_type": "stream",
          "name": "stdout",
          "text": [
            "MFVFLVLLPLVSSQCVNLTTRTQLPPAYTNSFTRGVYYPDKVFRSSVLHSTQDLFLPFFSNVTWFHAIHVSGTNGTKRFDNPVLPFNDGVYFASTEKSNIIRGWIFGTTLDSKTQSLLIVNNATNVVIKVCEFQFCNDPFLGVYYHKNNKSWMESEFRVYSSANNCTFEYVSQPFLMDLEGKQGNFKNLREFVFKNIDGYFKIYSKHTPINLVRDLPQGFSALEPLVDLPIGINITRFQTLLALHRSYLTPGDSSSGWTAGAAAYYVGYLQPRTFLLKYNENGTITDAVDCALDPLSETKCTLKSFTVEKGIYQTSNFRVQPTESIVRFPNITNLCPFGEVFNATRFASVYAWNRKRISNCVADYSVLYNSASFSTFKCYGVSPTKLNDLCFTNVYADSFVIRGDEVRQIAPGQTGKIADYNYKLPDDFTGCVIAWNSNNLDSKVGGNYNYLYRLFRKSNLKPFERDISTEIYQAGSTPCNGVEGFNCYFPLQSYGFQPTNGVGYQPYRVVVLSFELLHAPATVCGPKKSTNLVKNKCVNFNFNGLTGTGVLTESNKKFLPFQQFGRDIADTTDAVRDPQTLEILDITPCSFGGVSVITPGTNTSNQVAVLYQDVNCTEVPVAIHADQLTPTWRVYSTGSNVFQTRAGCLIGAEHVNNSYECDIPIGAGICASYQTQTNSPRRARSVASQSIIAYTMSLGAENSVAYSNNSIAIPTNFTISVTTEILPVSMTKTSVDCTMYICGDSTECSNLLLQYGSFCTQLNRALTGIAVEQDKNTQEVFAQVKQIYKTPPIKDFGGFNFSQILPDPSKPSKRSFIEDLLFNKVTLADAGFIKQYGDCLGDIAARDLICAQKFNGLTVLPPLLTDEMIAQYTSALLAGTITSGWTFGAGAALQIPFAMQMAYRFNGIGVTQNVLYENQKLIANQFNSAIGKIQDSLSSTASALGKLQDVVNQNAQALNTLVKQLSSNFGAISSVLNDILSRLDKVEAEVQIDRLITGRLQSLQTYVTQQLIRAAEIRASANLAATKMSECVLGQSKRVDFCGKGYHLMSFPQSAPHGVVFLHVTYVPAQEKNFTTAPAICHDGKAHFPREGVFVSNGTHWFVTQRNFYEPQIITTDNTFVSGNCDVVIGIVNNTVYDPLQPELDSFKEELDKYFKNHTSPDVDLGDISGINASVVNIQKEIDRLNEVAKNLNESLIDLQELGKYEQYIKWPWYIWLGFIAGLIAIVMVTIMLCCMTSCCSCLKGCCSCGSCCKFDEDDSEPVLKGVKLHYT\n",
            "1264\n",
            "5\n"
          ]
        }
      ]
    }
  ]
}